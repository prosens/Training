{
 "cells": [
  {
   "cell_type": "markdown",
   "metadata": {
    "nbgrader": {
     "grade": false,
     "grade_id": "cell-f39384a7d88ab3ff",
     "locked": true,
     "schema_version": 1,
     "solution": false
    }
   },
   "source": [
    "### Codio Activity 4.2: Complex Joins on Datasets\n",
    "\n",
    "**Expected Time: 60 Minutes**\n",
    "\n",
    "**Total Points: 10**\n",
    "\n",
    "![](images/kiva.png)\n",
    "\n",
    "This assignment focuses on using pandas merge to answer questions using multiple data sources.  Here you will combine data and use many of the earlier `pandas` methods together with the `merge` function to extract insights from our data source.  The data comes from the Kiva loan provider organization and was part of a kaggle Data Science for good contest [here](https://www.kaggle.com/kiva/data-science-for-good-kiva-crowdfunding).\n",
    "\n",
    "#### Index:\n",
    "\n",
    "- [Problem 1](#Problem-1)\n",
    "- [Problem 2](#Problem-2)\n",
    "- [Problem 3](#Problem-3)\n",
    "- [Problem 4](#Problem-4)\n",
    "- [Problem 5](#Problem-5)"
   ]
  },
  {
   "cell_type": "markdown",
   "metadata": {
    "nbgrader": {
     "grade": false,
     "grade_id": "cell-e71e1b128fd909de",
     "locked": true,
     "schema_version": 1,
     "solution": false
    }
   },
   "source": [
    "### The Data\n",
    "\n",
    "Kiva allows users to fund loans to small organizations around the world.  The four datasets contain a subset of the data provided on kaggle and describe information on the individual loan, when it was given, where the borrowers were located, and what the loans were being used for.  Below, the data is loaded into four DataFrames and the first two rows of each displayed.  Note the shared `id` column across all four datasets."
   ]
  },
  {
   "cell_type": "code",
   "execution_count": 201,
   "metadata": {
    "nbgrader": {
     "grade": false,
     "grade_id": "cell-6279f9a688b63708",
     "locked": true,
     "schema_version": 1,
     "solution": false
    },
    "tags": []
   },
   "outputs": [],
   "source": [
    "import pandas as pd"
   ]
  },
  {
   "cell_type": "code",
   "execution_count": 203,
   "metadata": {
    "nbgrader": {
     "grade": false,
     "grade_id": "cell-86322bdf0dc50289",
     "locked": true,
     "schema_version": 1,
     "solution": false
    },
    "tags": []
   },
   "outputs": [
    {
     "data": {
      "text/html": [
       "<div>\n",
       "<style scoped>\n",
       "    .dataframe tbody tr th:only-of-type {\n",
       "        vertical-align: middle;\n",
       "    }\n",
       "\n",
       "    .dataframe tbody tr th {\n",
       "        vertical-align: top;\n",
       "    }\n",
       "\n",
       "    .dataframe thead th {\n",
       "        text-align: right;\n",
       "    }\n",
       "</style>\n",
       "<table border=\"1\" class=\"dataframe\">\n",
       "  <thead>\n",
       "    <tr style=\"text-align: right;\">\n",
       "      <th></th>\n",
       "      <th>id</th>\n",
       "      <th>posted_time</th>\n",
       "      <th>funded_time</th>\n",
       "      <th>lender_count</th>\n",
       "    </tr>\n",
       "  </thead>\n",
       "  <tbody>\n",
       "    <tr>\n",
       "      <th>0</th>\n",
       "      <td>658776</td>\n",
       "      <td>2014-01-17 21:21:10+00:00</td>\n",
       "      <td>2014-02-05 17:57:55+00:00</td>\n",
       "      <td>33</td>\n",
       "    </tr>\n",
       "    <tr>\n",
       "      <th>1</th>\n",
       "      <td>1314847</td>\n",
       "      <td>2017-06-07 02:02:41+00:00</td>\n",
       "      <td>2017-06-21 17:10:38+00:00</td>\n",
       "      <td>9</td>\n",
       "    </tr>\n",
       "  </tbody>\n",
       "</table>\n",
       "</div>"
      ],
      "text/plain": [
       "        id                posted_time                funded_time  lender_count\n",
       "0   658776  2014-01-17 21:21:10+00:00  2014-02-05 17:57:55+00:00            33\n",
       "1  1314847  2017-06-07 02:02:41+00:00  2017-06-21 17:10:38+00:00             9"
      ]
     },
     "execution_count": 203,
     "metadata": {},
     "output_type": "execute_result"
    }
   ],
   "source": [
    "crowdsource = pd.read_csv('data/kiva/crowdsource.csv')\n",
    "crowdsource.head(2)"
   ]
  },
  {
   "cell_type": "code",
   "execution_count": 18,
   "metadata": {
    "nbgrader": {
     "grade": false,
     "grade_id": "cell-82230968cb790dda",
     "locked": true,
     "schema_version": 1,
     "solution": false
    },
    "tags": []
   },
   "outputs": [
    {
     "data": {
      "text/html": [
       "<div>\n",
       "<style scoped>\n",
       "    .dataframe tbody tr th:only-of-type {\n",
       "        vertical-align: middle;\n",
       "    }\n",
       "\n",
       "    .dataframe tbody tr th {\n",
       "        vertical-align: top;\n",
       "    }\n",
       "\n",
       "    .dataframe thead th {\n",
       "        text-align: right;\n",
       "    }\n",
       "</style>\n",
       "<table border=\"1\" class=\"dataframe\">\n",
       "  <thead>\n",
       "    <tr style=\"text-align: right;\">\n",
       "      <th></th>\n",
       "      <th>id</th>\n",
       "      <th>country</th>\n",
       "      <th>region</th>\n",
       "      <th>borrower_genders</th>\n",
       "    </tr>\n",
       "  </thead>\n",
       "  <tbody>\n",
       "    <tr>\n",
       "      <th>0</th>\n",
       "      <td>658776</td>\n",
       "      <td>El Salvador</td>\n",
       "      <td>Ciudad El Triunfo</td>\n",
       "      <td>male</td>\n",
       "    </tr>\n",
       "    <tr>\n",
       "      <th>1</th>\n",
       "      <td>1314847</td>\n",
       "      <td>Philippines</td>\n",
       "      <td>Bais, Negros Oriental</td>\n",
       "      <td>female</td>\n",
       "    </tr>\n",
       "  </tbody>\n",
       "</table>\n",
       "</div>"
      ],
      "text/plain": [
       "        id      country                 region borrower_genders\n",
       "0   658776  El Salvador      Ciudad El Triunfo             male\n",
       "1  1314847  Philippines  Bais, Negros Oriental           female"
      ]
     },
     "execution_count": 18,
     "metadata": {},
     "output_type": "execute_result"
    }
   ],
   "source": [
    "demographics = pd.read_csv('data/kiva/demographics.csv')\n",
    "demographics.head(2)"
   ]
  },
  {
   "cell_type": "code",
   "execution_count": 20,
   "metadata": {
    "nbgrader": {
     "grade": false,
     "grade_id": "cell-31297e7068c5831f",
     "locked": true,
     "schema_version": 1,
     "solution": false
    },
    "tags": []
   },
   "outputs": [
    {
     "data": {
      "text/html": [
       "<div>\n",
       "<style scoped>\n",
       "    .dataframe tbody tr th:only-of-type {\n",
       "        vertical-align: middle;\n",
       "    }\n",
       "\n",
       "    .dataframe tbody tr th {\n",
       "        vertical-align: top;\n",
       "    }\n",
       "\n",
       "    .dataframe thead th {\n",
       "        text-align: right;\n",
       "    }\n",
       "</style>\n",
       "<table border=\"1\" class=\"dataframe\">\n",
       "  <thead>\n",
       "    <tr style=\"text-align: right;\">\n",
       "      <th></th>\n",
       "      <th>id</th>\n",
       "      <th>funded_amount</th>\n",
       "      <th>currency</th>\n",
       "      <th>term_in_months</th>\n",
       "    </tr>\n",
       "  </thead>\n",
       "  <tbody>\n",
       "    <tr>\n",
       "      <th>0</th>\n",
       "      <td>658776</td>\n",
       "      <td>1000.0</td>\n",
       "      <td>USD</td>\n",
       "      <td>20.0</td>\n",
       "    </tr>\n",
       "    <tr>\n",
       "      <th>1</th>\n",
       "      <td>1314847</td>\n",
       "      <td>225.0</td>\n",
       "      <td>PHP</td>\n",
       "      <td>13.0</td>\n",
       "    </tr>\n",
       "  </tbody>\n",
       "</table>\n",
       "</div>"
      ],
      "text/plain": [
       "        id  funded_amount currency  term_in_months\n",
       "0   658776         1000.0      USD            20.0\n",
       "1  1314847          225.0      PHP            13.0"
      ]
     },
     "execution_count": 20,
     "metadata": {},
     "output_type": "execute_result"
    }
   ],
   "source": [
    "financials = pd.read_csv('data/kiva/financials.csv')\n",
    "financials.head(2)"
   ]
  },
  {
   "cell_type": "code",
   "execution_count": 22,
   "metadata": {
    "nbgrader": {
     "grade": false,
     "grade_id": "cell-2ebb50994101b895",
     "locked": true,
     "schema_version": 1,
     "solution": false
    },
    "tags": []
   },
   "outputs": [
    {
     "data": {
      "text/html": [
       "<div>\n",
       "<style scoped>\n",
       "    .dataframe tbody tr th:only-of-type {\n",
       "        vertical-align: middle;\n",
       "    }\n",
       "\n",
       "    .dataframe tbody tr th {\n",
       "        vertical-align: top;\n",
       "    }\n",
       "\n",
       "    .dataframe thead th {\n",
       "        text-align: right;\n",
       "    }\n",
       "</style>\n",
       "<table border=\"1\" class=\"dataframe\">\n",
       "  <thead>\n",
       "    <tr style=\"text-align: right;\">\n",
       "      <th></th>\n",
       "      <th>id</th>\n",
       "      <th>activity</th>\n",
       "      <th>sector</th>\n",
       "      <th>use</th>\n",
       "    </tr>\n",
       "  </thead>\n",
       "  <tbody>\n",
       "    <tr>\n",
       "      <th>0</th>\n",
       "      <td>658776</td>\n",
       "      <td>Vehicle</td>\n",
       "      <td>Personal Use</td>\n",
       "      <td>to purchase a motorcycle in order to travel fr...</td>\n",
       "    </tr>\n",
       "    <tr>\n",
       "      <th>1</th>\n",
       "      <td>1314847</td>\n",
       "      <td>Pigs</td>\n",
       "      <td>Agriculture</td>\n",
       "      <td>to buy feed and other supplies like vitamins t...</td>\n",
       "    </tr>\n",
       "  </tbody>\n",
       "</table>\n",
       "</div>"
      ],
      "text/plain": [
       "        id activity        sector  \\\n",
       "0   658776  Vehicle  Personal Use   \n",
       "1  1314847     Pigs   Agriculture   \n",
       "\n",
       "                                                 use  \n",
       "0  to purchase a motorcycle in order to travel fr...  \n",
       "1  to buy feed and other supplies like vitamins t...  "
      ]
     },
     "execution_count": 22,
     "metadata": {},
     "output_type": "execute_result"
    }
   ],
   "source": [
    "use = pd.read_csv('data/kiva/use.csv')\n",
    "use.head(2)"
   ]
  },
  {
   "cell_type": "markdown",
   "metadata": {
    "nbgrader": {
     "grade": false,
     "grade_id": "cell-8a1101ef968bdddd",
     "locked": true,
     "schema_version": 1,
     "solution": false
    }
   },
   "source": [
    "[Back to top](#Index:) \n",
    "\n",
    "### Problem 1\n",
    "\n",
    "#### Kenyan Loan Amounts\n",
    "\n",
    "**5 Points**\n",
    "\n",
    "Use the `demographics` and `financials` data to determine the average loan amount for the country Kenya.  Save your response as a float to `ans1` below."
   ]
  },
  {
   "cell_type": "code",
   "execution_count": 124,
   "metadata": {
    "nbgrader": {
     "grade": false,
     "grade_id": "cell-30ba4362a6bbb79d",
     "locked": false,
     "schema_version": 1,
     "solution": true
    },
    "tags": []
   },
   "outputs": [
    {
     "name": "stdout",
     "output_type": "stream",
     "text": [
      "443.4723441615452\n",
      "<class 'numpy.float64'>\n"
     ]
    }
   ],
   "source": [
    "### GRADED\n",
    "\n",
    "ans1 = None\n",
    "\n",
    "### BEGIN SOLUTION\n",
    "ans1 = pd.merge(left=demographics, right=financials, on='id').query('country == \"Kenya\"')[['funded_amount']].mean().values[0]\n",
    "type(ans1)\n",
    "### END SOLUTION\n",
    "\n",
    "# Answer check\n",
    "print(ans1)\n",
    "print(type(ans1))"
   ]
  },
  {
   "cell_type": "code",
   "execution_count": 126,
   "metadata": {
    "nbgrader": {
     "grade": true,
     "grade_id": "cell-3c3e3fda1e1b70e8",
     "locked": true,
     "points": 2,
     "schema_version": 1,
     "solution": false
    },
    "tags": []
   },
   "outputs": [],
   "source": [
    "### BEGIN HIDDEN TESTS\n",
    "crowdsource_ = pd.read_csv('data/kiva/crowdsource.csv')\n",
    "demographics_ = pd.read_csv('data/kiva/demographics.csv')\n",
    "financials_ = pd.read_csv('data/kiva/financials.csv')\n",
    "use_ = pd.read_csv('data/kiva/use.csv')\n",
    "ans1_ = pd.merge(demographics_.loc[demographics_['country'] == 'Kenya'], financials_, on = 'id')[['funded_amount']].mean().values[0]\n",
    "#\n",
    "#\n",
    "#\n",
    "assert type(ans1_) == type(ans1)\n",
    "assert ans1_ == ans1\n",
    "### END HIDDEN TESTS"
   ]
  },
  {
   "cell_type": "markdown",
   "metadata": {
    "nbgrader": {
     "grade": false,
     "grade_id": "cell-850d79c95dd9419a",
     "locked": true,
     "schema_version": 1,
     "solution": false
    }
   },
   "source": [
    "[Back to top](#Index:) \n",
    "\n",
    "### Problem 2\n",
    "\n",
    "### El Salvador Top Sector\n",
    "\n",
    "**5 Points**\n",
    "\n",
    "Use the `demographics` and `use` datasets to determine the sector of work that received the most loans in El Salvador.  Assign your result as a string to `ans2` below."
   ]
  },
  {
   "cell_type": "code",
   "execution_count": 147,
   "metadata": {
    "nbgrader": {
     "grade": false,
     "grade_id": "cell-4037ebf501493e72",
     "locked": false,
     "schema_version": 1,
     "solution": true
    },
    "tags": []
   },
   "outputs": [
    {
     "name": "stdout",
     "output_type": "stream",
     "text": [
      "Agriculture\n",
      "<class 'str'>\n"
     ]
    }
   ],
   "source": [
    "### GRADED\n",
    "\n",
    "ans2 = None\n",
    "\n",
    "### BEGIN SOLUTION\n",
    "ans2 = pd.merge(left=demographics, right=use, on='id').query('country == \"El Salvador\"')['sector'].value_counts().index[0]\n",
    "type(ans2)\n",
    "### END SOLUTION\n",
    "\n",
    "# Answer check\n",
    "print(ans2)\n",
    "print(type(ans2))"
   ]
  },
  {
   "cell_type": "code",
   "execution_count": 149,
   "metadata": {
    "nbgrader": {
     "grade": true,
     "grade_id": "cell-2bf2a356d27da211",
     "locked": true,
     "points": 2,
     "schema_version": 1,
     "solution": false
    },
    "tags": []
   },
   "outputs": [],
   "source": [
    "### BEGIN HIDDEN TESTS\n",
    "crowdsource_ = pd.read_csv('data/kiva/crowdsource.csv')\n",
    "demographics_ = pd.read_csv('data/kiva/demographics.csv')\n",
    "financials_ = pd.read_csv('data/kiva/financials.csv')\n",
    "use_ = pd.read_csv('data/kiva/use.csv')\n",
    "ans2_ = pd.merge(demographics_.loc[demographics_['country'] == 'El Salvador'], use_, on = 'id')['sector'].value_counts().index[0]\n",
    "#\n",
    "#\n",
    "#\n",
    "assert type(ans2_) == type(ans2)\n",
    "assert ans2_ == ans2\n",
    "### END HIDDEN TESTS"
   ]
  },
  {
   "cell_type": "markdown",
   "metadata": {
    "nbgrader": {
     "grade": false,
     "grade_id": "cell-730d7b85d6989699",
     "locked": true,
     "schema_version": 1,
     "solution": false
    }
   },
   "source": [
    "### Problem 3\n",
    "\n",
    "#### Pakistan Loans in Agriculture\n",
    "\n",
    "**5 Points**\n",
    "\n",
    "Combine the `use`, `demographics`, and `financials` data to determine the total amount of loans for Agriculture in Pakistan.  Assign your results as a float to `ans3` below."
   ]
  },
  {
   "cell_type": "code",
   "execution_count": 152,
   "metadata": {
    "nbgrader": {
     "grade": false,
     "grade_id": "cell-00a00bf68209058f",
     "locked": false,
     "schema_version": 1,
     "solution": true
    },
    "tags": []
   },
   "outputs": [
    {
     "name": "stdout",
     "output_type": "stream",
     "text": [
      "30900.0\n",
      "<class 'numpy.float64'>\n"
     ]
    }
   ],
   "source": [
    "### GRADED\n",
    "\n",
    "ans3 = None\n",
    "\n",
    "### BEGIN SOLUTION\n",
    "p1 = pd.merge(use, demographics, on = 'id')\n",
    "a = pd.merge(p1, financials, on = 'id')\n",
    "b = a.loc[a['country'] == 'Pakistan']\n",
    "ans3 = b.loc[b['sector'] == 'Agriculture'][['funded_amount']].sum().values[0]\n",
    "\n",
    "### END SOLUTION\n",
    "\n",
    "# Answer check\n",
    "print(ans3)\n",
    "print(type(ans3))"
   ]
  },
  {
   "cell_type": "code",
   "execution_count": 154,
   "metadata": {
    "nbgrader": {
     "grade": true,
     "grade_id": "cell-79780abf2a643093",
     "locked": true,
     "points": 2,
     "schema_version": 1,
     "solution": false
    },
    "tags": []
   },
   "outputs": [],
   "source": [
    "### BEGIN HIDDEN TESTS\n",
    "crowdsource_ = pd.read_csv('data/kiva/crowdsource.csv')\n",
    "demographics_ = pd.read_csv('data/kiva/demographics.csv')\n",
    "financials_ = pd.read_csv('data/kiva/financials.csv')\n",
    "use_ = pd.read_csv('data/kiva/use.csv')\n",
    "p1_ = pd.merge(use_, demographics_, on = 'id')\n",
    "a_ = pd.merge(p1_, financials_, on = 'id')\n",
    "b_ = a_.loc[a_['country'] == 'Pakistan']\n",
    "ans3_ = b_.loc[b_['sector'] == 'Agriculture'][['funded_amount']].sum().values[0]\n",
    "#\n",
    "#\n",
    "assert type(ans3_) == type(ans3)\n",
    "assert ans3_ == ans3\n",
    "### END HIDDEN TESTS"
   ]
  },
  {
   "cell_type": "markdown",
   "metadata": {
    "nbgrader": {
     "grade": false,
     "grade_id": "cell-7241f3c603d05fbb",
     "locked": true,
     "schema_version": 1,
     "solution": false
    }
   },
   "source": [
    "[Back to top](#Index:) \n",
    "\n",
    "### Problem 4\n",
    "\n",
    "#### Top Total Loan Sector\n",
    "\n",
    "**5 Points**\n",
    "\n",
    "\n",
    "What sector received the most total dollars in funding?  Assign your response as a string to `ans4` below."
   ]
  },
  {
   "cell_type": "code",
   "execution_count": 157,
   "metadata": {
    "nbgrader": {
     "grade": false,
     "grade_id": "cell-a8d7b30a738b7adc",
     "locked": false,
     "schema_version": 1,
     "solution": true
    },
    "tags": []
   },
   "outputs": [
    {
     "name": "stdout",
     "output_type": "stream",
     "text": [
      "Agriculture\n",
      "<class 'str'>\n"
     ]
    }
   ],
   "source": [
    "### GRADED\n",
    "\n",
    "ans4 = None\n",
    "\n",
    "### BEGIN SOLUTION\n",
    "ans4 = pd.merge(financials, use, on = 'id').groupby('sector')[['funded_amount']].sum().sort_values(by = 'funded_amount', ascending = False).index[0]\n",
    "### END SOLUTION\n",
    "\n",
    "# Answer check\n",
    "print(ans4)\n",
    "print(type(ans4))"
   ]
  },
  {
   "cell_type": "code",
   "execution_count": 159,
   "metadata": {
    "nbgrader": {
     "grade": true,
     "grade_id": "cell-c4a056a912aea7e0",
     "locked": true,
     "points": 2,
     "schema_version": 1,
     "solution": false
    },
    "tags": []
   },
   "outputs": [],
   "source": [
    "### BEGIN HIDDEN TESTS\n",
    "crowdsource_ = pd.read_csv('data/kiva/crowdsource.csv')\n",
    "demographics_ = pd.read_csv('data/kiva/demographics.csv')\n",
    "financials_ = pd.read_csv('data/kiva/financials.csv')\n",
    "use_ = pd.read_csv('data/kiva/use.csv')\n",
    "ans4_ = pd.merge(financials_, use_, on = 'id').groupby('sector')[['funded_amount']].sum().sort_values(by = 'funded_amount', ascending = False).index[0]\n",
    "#\n",
    "#\n",
    "assert type(ans4_) == type(ans4)\n",
    "assert ans4_ == ans4\n",
    "### END HIDDEN TESTS"
   ]
  },
  {
   "cell_type": "markdown",
   "metadata": {
    "nbgrader": {
     "grade": false,
     "grade_id": "cell-061672558861bf9e",
     "locked": true,
     "schema_version": 1,
     "solution": false
    }
   },
   "source": [
    "[Back to top](#Index:) \n",
    "\n",
    "### Problem 5\n",
    "\n",
    "#### Top Loan by Lender Amount\n",
    "\n",
    "**5 Points**\n",
    "\n",
    "\n",
    "Note that each loan is a combination of lenders.  Determine which loan sector has the highest ratio of dollar to lender amount.  Assign the sector with the highest ratio as a string to `ans5` below. "
   ]
  },
  {
   "cell_type": "code",
   "execution_count": 191,
   "metadata": {
    "nbgrader": {
     "grade": false,
     "grade_id": "cell-1739efe5ab750822",
     "locked": false,
     "schema_version": 1,
     "solution": true
    },
    "tags": []
   },
   "outputs": [
    {
     "name": "stdout",
     "output_type": "stream",
     "text": [
      "Clothing\n",
      "<class 'str'>\n"
     ]
    }
   ],
   "source": [
    "### GRADED\n",
    "\n",
    "ans5 = None\n",
    "\n",
    "# YOUR CODE HERE\n",
    "temp = pd.merge(left=use, right=financials, on='id', how='left')\n",
    "temp = pd.merge(left=temp, right=crowdsource, on='id')\n",
    "temp_grouped = temp[['sector', 'funded_amount', 'lender_count']].groupby('sector').sum()\n",
    "temp_grouped['ratio'] = temp_grouped['funded_amount']/temp_grouped['lender_count']\n",
    "temp_grouped = temp_grouped.sort_values(by='ratio', ascending=False)\n",
    "ans5 = temp_grouped.index[0]\n",
    "\n",
    "# Answer check\n",
    "print(ans5)\n",
    "print(type(ans5))\n",
    "\n"
   ]
  },
  {
   "cell_type": "code",
   "execution_count": 193,
   "metadata": {
    "nbgrader": {
     "grade": true,
     "grade_id": "cell-95ae34d4661d4478",
     "locked": true,
     "points": 2,
     "schema_version": 1,
     "solution": false
    },
    "tags": []
   },
   "outputs": [
    {
     "name": "stdout",
     "output_type": "stream",
     "text": [
      "           id  funded_amount currency  term_in_months  \\\n",
      "0      658776         1000.0      USD            20.0   \n",
      "1     1314847          225.0      PHP            13.0   \n",
      "2      863063         1150.0      PEN             6.0   \n",
      "3     1184347         1700.0      AMD            26.0   \n",
      "4      729745          400.0      UGX             8.0   \n",
      "...       ...            ...      ...             ...   \n",
      "9995   679499          400.0      PKR            12.0   \n",
      "9996   873525          375.0      KES            14.0   \n",
      "9997   917686         1375.0      XOF             8.0   \n",
      "9998   905789          450.0      PHP            13.0   \n",
      "9999  1216411          125.0      PHP            16.0   \n",
      "\n",
      "                       activity        sector  \\\n",
      "0                       Vehicle  Personal Use   \n",
      "1                          Pigs   Agriculture   \n",
      "2                     Bookstore        Retail   \n",
      "3                   Photography      Services   \n",
      "4                 Fuel/Firewood        Retail   \n",
      "...                         ...           ...   \n",
      "9995        Fruits & Vegetables          Food   \n",
      "9996                    Farming   Agriculture   \n",
      "9997               Fish Selling          Food   \n",
      "9998              General Store        Retail   \n",
      "9999  Personal Housing Expenses       Housing   \n",
      "\n",
      "                                                    use  \\\n",
      "0     to purchase a motorcycle in order to travel fr...   \n",
      "1     to buy feed and other supplies like vitamins t...   \n",
      "2                  to buy notebooks, pencils, and pens.   \n",
      "3     to pay for a new lens for providing photograph...   \n",
      "4                             to buy  firewood to sell.   \n",
      "...                                                 ...   \n",
      "9995        to help her husband buy onions for resale.    \n",
      "9996  to buy fertilizer and pesticides to boost his ...   \n",
      "9997                                           buy fish   \n",
      "9998                     to buy more groceries to sell.   \n",
      "9999  to buy cement, hollow blocks, GI sheets, sand,...   \n",
      "\n",
      "                    posted_time                funded_time  lender_count  \\\n",
      "0     2014-01-17 21:21:10+00:00  2014-02-05 17:57:55+00:00            33   \n",
      "1     2017-06-07 02:02:41+00:00  2017-06-21 17:10:38+00:00             9   \n",
      "2     2015-03-27 20:08:04+00:00  2015-04-04 15:01:22+00:00             1   \n",
      "3     2016-11-14 07:32:12+00:00  2016-11-25 03:07:13+00:00            47   \n",
      "4     2014-06-24 07:35:46+00:00  2014-07-10 16:12:43+00:00            12   \n",
      "...                         ...                        ...           ...   \n",
      "9995  2014-03-05 07:05:38+00:00  2014-03-13 01:01:41+00:00            11   \n",
      "9996  2015-04-22 06:32:13+00:00                        NaN             6   \n",
      "9997  2015-07-15 11:53:33+00:00  2015-08-14 11:45:40+00:00            44   \n",
      "9998  2015-06-22 07:44:18+00:00  2015-07-14 00:20:45+00:00            11   \n",
      "9999  2017-01-06 06:54:07+00:00  2017-01-08 01:17:28+00:00             1   \n",
      "\n",
      "            ratio  \n",
      "0       30.303030  \n",
      "1       25.000000  \n",
      "2     1150.000000  \n",
      "3       36.170213  \n",
      "4       33.333333  \n",
      "...           ...  \n",
      "9995    36.363636  \n",
      "9996    62.500000  \n",
      "9997    31.250000  \n",
      "9998    40.909091  \n",
      "9999   125.000000  \n",
      "\n",
      "[10000 rows x 11 columns]\n"
     ]
    },
    {
     "ename": "AssertionError",
     "evalue": "",
     "output_type": "error",
     "traceback": [
      "\u001b[0;31m---------------------------------------------------------------------------\u001b[0m",
      "\u001b[0;31mAssertionError\u001b[0m                            Traceback (most recent call last)",
      "Cell \u001b[0;32mIn[193], line 15\u001b[0m\n\u001b[1;32m     11\u001b[0m \u001b[38;5;66;03m#\u001b[39;00m\n\u001b[1;32m     12\u001b[0m \u001b[38;5;66;03m#\u001b[39;00m\n\u001b[1;32m     13\u001b[0m \u001b[38;5;66;03m#\u001b[39;00m\n\u001b[1;32m     14\u001b[0m \u001b[38;5;28;01massert\u001b[39;00m \u001b[38;5;28mtype\u001b[39m(ans5_) \u001b[38;5;241m==\u001b[39m \u001b[38;5;28mtype\u001b[39m(ans5)\n\u001b[0;32m---> 15\u001b[0m \u001b[38;5;28;01massert\u001b[39;00m ans5_ \u001b[38;5;241m==\u001b[39m ans5\n",
      "\u001b[0;31mAssertionError\u001b[0m: "
     ]
    }
   ],
   "source": [
    "### BEGIN HIDDEN TESTS\n",
    "crowdsource_ = pd.read_csv('data/kiva/crowdsource.csv')\n",
    "demographics_ = pd.read_csv('data/kiva/demographics.csv')\n",
    "financials_ = pd.read_csv('data/kiva/financials.csv')\n",
    "use_ = pd.read_csv('data/kiva/use.csv')\n",
    "a_ = pd.merge(financials_, use_, on = 'id')\n",
    "b_ = pd.merge(a_, crowdsource, on = 'id')\n",
    "b_['ratio'] = b_['funded_amount']/b_['lender_count']\n",
    "print(b_)\n",
    "ans5_ = b_.groupby('sector')['ratio'].max().idxmax()\n",
    "#\n",
    "#\n",
    "#\n",
    "assert type(ans5_) == type(ans5)\n",
    "assert ans5_ == ans5\n",
    "### END HIDDEN TESTS"
   ]
  },
  {
   "cell_type": "code",
   "execution_count": null,
   "metadata": {},
   "outputs": [],
   "source": []
  },
  {
   "cell_type": "code",
   "execution_count": null,
   "metadata": {},
   "outputs": [],
   "source": []
  }
 ],
 "metadata": {
  "celltoolbar": "Create Assignment",
  "kernelspec": {
   "display_name": "Python 3 (ipykernel)",
   "language": "python",
   "name": "python3"
  },
  "language_info": {
   "codemirror_mode": {
    "name": "ipython",
    "version": 3
   },
   "file_extension": ".py",
   "mimetype": "text/x-python",
   "name": "python",
   "nbconvert_exporter": "python",
   "pygments_lexer": "ipython3",
   "version": "3.11.7"
  },
  "widgets": {
   "application/vnd.jupyter.widget-state+json": {
    "state": {},
    "version_major": 2,
    "version_minor": 0
   }
  }
 },
 "nbformat": 4,
 "nbformat_minor": 4
}
