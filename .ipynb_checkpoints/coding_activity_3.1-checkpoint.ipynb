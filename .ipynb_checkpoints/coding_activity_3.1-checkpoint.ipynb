{
 "cells": [
  {
   "cell_type": "markdown",
   "metadata": {
    "id": "2HNKGF_GuE6A",
    "nbgrader": {
     "grade": false,
     "grade_id": "cell-958ff0d82a0643d5",
     "locked": true,
     "schema_version": 1,
     "solution": false
    }
   },
   "source": [
    "### Using DataFrame's `.isin()` and `.query()` methods.\n",
    "\n",
    "**Expected Time: 30 Minutes**\n",
    "\n",
    "**Total Points: 10**\n",
    "\n",
    "This assignment focuses on the use of two pandas DataFrame methods -- `.isin()` and `query()`.  These methods are used to select rows and columns of a dataframe based on conditions.  To explore their use, we create a simple DataFrame with information on basketball players in a game, the number of points they score and number of minutes they play.\n",
    "\n",
    "## Index:\n",
    "\n",
    "- [Problem 1](#Problem-1)\n",
    "- [Problem 2](#Problem-2)\n",
    "- [Problem 3](#Problem-3)\n",
    "- [Problem 4](#Problem-4)\n",
    "- [Problem 5](#Problem-5)\n"
   ]
  },
  {
   "cell_type": "code",
   "execution_count": 1,
   "metadata": {
    "executionInfo": {
     "elapsed": 708,
     "status": "ok",
     "timestamp": 1635153136140,
     "user": {
      "displayName": "farooq sarfraz",
      "photoUrl": "https://lh3.googleusercontent.com/a-/AOh14GgRiDOBb-blcQJmoS9Fw4dPl1VFPCxRvFRmHU6y7A=s64",
      "userId": "02886612156486810823"
     },
     "user_tz": -300
    },
    "id": "2ZM8duV2uE6F",
    "nbgrader": {
     "grade": false,
     "grade_id": "cell-50552e9b5a0e9601",
     "locked": true,
     "schema_version": 1,
     "solution": false
    }
   },
   "outputs": [],
   "source": [
    "import pandas as pd"
   ]
  },
  {
   "cell_type": "code",
   "execution_count": 2,
   "metadata": {
    "executionInfo": {
     "elapsed": 503,
     "status": "ok",
     "timestamp": 1635153143057,
     "user": {
      "displayName": "farooq sarfraz",
      "photoUrl": "https://lh3.googleusercontent.com/a-/AOh14GgRiDOBb-blcQJmoS9Fw4dPl1VFPCxRvFRmHU6y7A=s64",
      "userId": "02886612156486810823"
     },
     "user_tz": -300
    },
    "id": "O8kMjjHYuE6G",
    "nbgrader": {
     "grade": false,
     "grade_id": "cell-b72a8502752f5e71",
     "locked": true,
     "schema_version": 1,
     "solution": false
    }
   },
   "outputs": [],
   "source": [
    "df = pd.DataFrame({'minutes': [30, 35, 40],\n",
    "                  'points': [13, 21, 50],\n",
    "                  'team': ['knicks', 'lakers', 'knicks']},\n",
    "                 index = ['drose', 'lebron', 'kemba'])"
   ]
  },
  {
   "cell_type": "code",
   "execution_count": 3,
   "metadata": {
    "colab": {
     "base_uri": "https://localhost:8080/",
     "height": 142
    },
    "executionInfo": {
     "elapsed": 502,
     "status": "ok",
     "timestamp": 1635153386047,
     "user": {
      "displayName": "farooq sarfraz",
      "photoUrl": "https://lh3.googleusercontent.com/a-/AOh14GgRiDOBb-blcQJmoS9Fw4dPl1VFPCxRvFRmHU6y7A=s64",
      "userId": "02886612156486810823"
     },
     "user_tz": -300
    },
    "id": "P5HKNfmGuE6H",
    "nbgrader": {
     "grade": false,
     "grade_id": "cell-1195d25173829640",
     "locked": true,
     "schema_version": 1,
     "solution": false
    },
    "outputId": "cde677e5-2e03-4601-dd52-aa3295bb987b"
   },
   "outputs": [
    {
     "data": {
      "text/html": [
       "<div>\n",
       "<style scoped>\n",
       "    .dataframe tbody tr th:only-of-type {\n",
       "        vertical-align: middle;\n",
       "    }\n",
       "\n",
       "    .dataframe tbody tr th {\n",
       "        vertical-align: top;\n",
       "    }\n",
       "\n",
       "    .dataframe thead th {\n",
       "        text-align: right;\n",
       "    }\n",
       "</style>\n",
       "<table border=\"1\" class=\"dataframe\">\n",
       "  <thead>\n",
       "    <tr style=\"text-align: right;\">\n",
       "      <th></th>\n",
       "      <th>minutes</th>\n",
       "      <th>points</th>\n",
       "      <th>team</th>\n",
       "    </tr>\n",
       "  </thead>\n",
       "  <tbody>\n",
       "    <tr>\n",
       "      <th>drose</th>\n",
       "      <td>30</td>\n",
       "      <td>13</td>\n",
       "      <td>knicks</td>\n",
       "    </tr>\n",
       "    <tr>\n",
       "      <th>lebron</th>\n",
       "      <td>35</td>\n",
       "      <td>21</td>\n",
       "      <td>lakers</td>\n",
       "    </tr>\n",
       "    <tr>\n",
       "      <th>kemba</th>\n",
       "      <td>40</td>\n",
       "      <td>50</td>\n",
       "      <td>knicks</td>\n",
       "    </tr>\n",
       "  </tbody>\n",
       "</table>\n",
       "</div>"
      ],
      "text/plain": [
       "        minutes  points    team\n",
       "drose        30      13  knicks\n",
       "lebron       35      21  lakers\n",
       "kemba        40      50  knicks"
      ]
     },
     "execution_count": 3,
     "metadata": {},
     "output_type": "execute_result"
    }
   ],
   "source": [
    "df"
   ]
  },
  {
   "cell_type": "markdown",
   "metadata": {
    "id": "oCGREPeEuE6I",
    "nbgrader": {
     "grade": false,
     "grade_id": "cell-fa8218b168ee4cd3",
     "locked": true,
     "schema_version": 1,
     "solution": false
    }
   },
   "source": [
    "[Back to top](#Index:) \n",
    "\n",
    "### Problem 1\n",
    "\n",
    "#### Passing a list of values\n",
    "\n",
    "**2 Points**\n",
    "\n",
    "The DataFrame `df` has a method `.isin(values)` that will return a boolean based on the *values* argument which should be an iterable (lists, tuples, sets, series, dict).  Examine the result of passing the list `[30, 21]` to the `.isin()` function.  Save the resulting DataFrame to `ans_1` below."
   ]
  },
  {
   "cell_type": "code",
   "execution_count": 4,
   "metadata": {
    "colab": {
     "base_uri": "https://localhost:8080/",
     "height": 158
    },
    "executionInfo": {
     "elapsed": 467,
     "status": "ok",
     "timestamp": 1635153444115,
     "user": {
      "displayName": "farooq sarfraz",
      "photoUrl": "https://lh3.googleusercontent.com/a-/AOh14GgRiDOBb-blcQJmoS9Fw4dPl1VFPCxRvFRmHU6y7A=s64",
      "userId": "02886612156486810823"
     },
     "user_tz": -300
    },
    "id": "y9bnza_tuE6I",
    "nbgrader": {
     "grade": false,
     "grade_id": "cell-982bde9e0cbbf643",
     "locked": false,
     "schema_version": 1,
     "solution": true
    },
    "outputId": "40ed60a2-8ca4-4023-df0e-291b92a94312"
   },
   "outputs": [
    {
     "name": "stdout",
     "output_type": "stream",
     "text": [
      "<class 'pandas.core.frame.DataFrame'>\n"
     ]
    },
    {
     "data": {
      "text/html": [
       "<div>\n",
       "<style scoped>\n",
       "    .dataframe tbody tr th:only-of-type {\n",
       "        vertical-align: middle;\n",
       "    }\n",
       "\n",
       "    .dataframe tbody tr th {\n",
       "        vertical-align: top;\n",
       "    }\n",
       "\n",
       "    .dataframe thead th {\n",
       "        text-align: right;\n",
       "    }\n",
       "</style>\n",
       "<table border=\"1\" class=\"dataframe\">\n",
       "  <thead>\n",
       "    <tr style=\"text-align: right;\">\n",
       "      <th></th>\n",
       "      <th>minutes</th>\n",
       "      <th>points</th>\n",
       "      <th>team</th>\n",
       "    </tr>\n",
       "  </thead>\n",
       "  <tbody>\n",
       "    <tr>\n",
       "      <th>drose</th>\n",
       "      <td>True</td>\n",
       "      <td>False</td>\n",
       "      <td>False</td>\n",
       "    </tr>\n",
       "    <tr>\n",
       "      <th>lebron</th>\n",
       "      <td>False</td>\n",
       "      <td>True</td>\n",
       "      <td>False</td>\n",
       "    </tr>\n",
       "    <tr>\n",
       "      <th>kemba</th>\n",
       "      <td>False</td>\n",
       "      <td>False</td>\n",
       "      <td>False</td>\n",
       "    </tr>\n",
       "  </tbody>\n",
       "</table>\n",
       "</div>"
      ],
      "text/plain": [
       "        minutes  points   team\n",
       "drose      True   False  False\n",
       "lebron    False    True  False\n",
       "kemba     False   False  False"
      ]
     },
     "execution_count": 4,
     "metadata": {},
     "output_type": "execute_result"
    }
   ],
   "source": [
    "### GRADED\n",
    "\n",
    "ans_1 = ''\n",
    "\n",
    "### BEGIN SOLUTION\n",
    "ans_1 = df.isin([30, 21])\n",
    "### END SOLUTION\n",
    "\n",
    "# Answer check\n",
    "print(type(ans_1))\n",
    "ans_1"
   ]
  },
  {
   "cell_type": "code",
   "execution_count": 5,
   "metadata": {
    "executionInfo": {
     "elapsed": 511,
     "status": "ok",
     "timestamp": 1635153474668,
     "user": {
      "displayName": "farooq sarfraz",
      "photoUrl": "https://lh3.googleusercontent.com/a-/AOh14GgRiDOBb-blcQJmoS9Fw4dPl1VFPCxRvFRmHU6y7A=s64",
      "userId": "02886612156486810823"
     },
     "user_tz": -300
    },
    "id": "c-EEo_jTuE6J",
    "nbgrader": {
     "grade": true,
     "grade_id": "cell-f476c07408021f46",
     "locked": true,
     "points": 2,
     "schema_version": 1,
     "solution": false
    }
   },
   "outputs": [],
   "source": [
    "### BEGIN HIDDEN TESTS\n",
    "df_ = pd.DataFrame({'minutes': [30, 35, 40],\n",
    "                  'points': [13, 21, 50],\n",
    "                  'team': ['knicks', 'lakers', 'knicks']},\n",
    "                 index = ['drose', 'lebron', 'kemba'])\n",
    "\n",
    "ans_1_ = df.isin([30, 21])\n",
    "\n",
    "\n",
    "\n",
    "pd.testing.assert_frame_equal(ans_1, ans_1_)\n",
    "### END HIDDEN TESTS"
   ]
  },
  {
   "cell_type": "markdown",
   "metadata": {
    "id": "KphK0L_tuE6J",
    "nbgrader": {
     "grade": false,
     "grade_id": "cell-c396f249604d0c44",
     "locked": true,
     "schema_version": 1,
     "solution": false
    }
   },
   "source": [
    "[Back to top](#Index:) \n",
    "\n",
    "### Problem 2\n",
    "\n",
    "#### Passing a dictionary of values\n",
    "\n",
    "**2 Points**\n",
    "\n",
    "To pass a dictionary of values to the method, specify the column and values of interest.  For example\n",
    "\n",
    "```python\n",
    "df.isin({'team': ['knicks']})\n",
    "```\n",
    "\n",
    "Create a dictionary that returns `True` for players who scored 13 points or played for 35 minutes. Assign the dictionary to `values` and the result of the query as a dataframe to `ans_2` below."
   ]
  },
  {
   "cell_type": "code",
   "execution_count": 6,
   "metadata": {
    "colab": {
     "base_uri": "https://localhost:8080/",
     "height": 158
    },
    "executionInfo": {
     "elapsed": 478,
     "status": "ok",
     "timestamp": 1635153575116,
     "user": {
      "displayName": "farooq sarfraz",
      "photoUrl": "https://lh3.googleusercontent.com/a-/AOh14GgRiDOBb-blcQJmoS9Fw4dPl1VFPCxRvFRmHU6y7A=s64",
      "userId": "02886612156486810823"
     },
     "user_tz": -300
    },
    "id": "fS0Lrfr9uE6J",
    "nbgrader": {
     "grade": false,
     "grade_id": "cell-366d7b6a14e09b8c",
     "locked": false,
     "schema_version": 1,
     "solution": true
    },
    "outputId": "a3de9ce6-ff0a-4aa0-ff19-0a9ff71fda10"
   },
   "outputs": [
    {
     "name": "stdout",
     "output_type": "stream",
     "text": [
      "<class 'pandas.core.frame.DataFrame'>\n"
     ]
    },
    {
     "data": {
      "text/html": [
       "<div>\n",
       "<style scoped>\n",
       "    .dataframe tbody tr th:only-of-type {\n",
       "        vertical-align: middle;\n",
       "    }\n",
       "\n",
       "    .dataframe tbody tr th {\n",
       "        vertical-align: top;\n",
       "    }\n",
       "\n",
       "    .dataframe thead th {\n",
       "        text-align: right;\n",
       "    }\n",
       "</style>\n",
       "<table border=\"1\" class=\"dataframe\">\n",
       "  <thead>\n",
       "    <tr style=\"text-align: right;\">\n",
       "      <th></th>\n",
       "      <th>minutes</th>\n",
       "      <th>points</th>\n",
       "      <th>team</th>\n",
       "    </tr>\n",
       "  </thead>\n",
       "  <tbody>\n",
       "    <tr>\n",
       "      <th>drose</th>\n",
       "      <td>False</td>\n",
       "      <td>True</td>\n",
       "      <td>False</td>\n",
       "    </tr>\n",
       "    <tr>\n",
       "      <th>lebron</th>\n",
       "      <td>True</td>\n",
       "      <td>False</td>\n",
       "      <td>False</td>\n",
       "    </tr>\n",
       "    <tr>\n",
       "      <th>kemba</th>\n",
       "      <td>False</td>\n",
       "      <td>False</td>\n",
       "      <td>False</td>\n",
       "    </tr>\n",
       "  </tbody>\n",
       "</table>\n",
       "</div>"
      ],
      "text/plain": [
       "        minutes  points   team\n",
       "drose     False    True  False\n",
       "lebron     True   False  False\n",
       "kemba     False   False  False"
      ]
     },
     "execution_count": 6,
     "metadata": {},
     "output_type": "execute_result"
    }
   ],
   "source": [
    "### GRADED\n",
    "\n",
    "values = ''\n",
    "ans_2 = ''\n",
    "\n",
    "### BEGIN SOLUTION\n",
    "values = {'points': [13], 'minutes': [35]}\n",
    "ans_2 = df.isin(values)\n",
    "### END SOLUTION\n",
    "\n",
    "# Answer check\n",
    "print(type(ans_2))\n",
    "ans_2"
   ]
  },
  {
   "cell_type": "code",
   "execution_count": 7,
   "metadata": {
    "executionInfo": {
     "elapsed": 688,
     "status": "ok",
     "timestamp": 1635153599136,
     "user": {
      "displayName": "farooq sarfraz",
      "photoUrl": "https://lh3.googleusercontent.com/a-/AOh14GgRiDOBb-blcQJmoS9Fw4dPl1VFPCxRvFRmHU6y7A=s64",
      "userId": "02886612156486810823"
     },
     "user_tz": -300
    },
    "id": "12ELrkMauE6K",
    "nbgrader": {
     "grade": true,
     "grade_id": "cell-12c6873fc6b42439",
     "locked": true,
     "points": 2,
     "schema_version": 1,
     "solution": false
    }
   },
   "outputs": [],
   "source": [
    "### BEGIN HIDDEN TESTS\n",
    "df_ = pd.DataFrame({'minutes': [30, 35, 40],\n",
    "                  'points': [13, 21, 50],\n",
    "                  'team': ['knicks', 'lakers', 'knicks']},\n",
    "                 index = ['drose', 'lebron', 'kemba'])\n",
    "\n",
    "values_ = {'points': [13], 'minutes': [35]}\n",
    "ans_2_ = df_.isin(values)\n",
    "#\n",
    "#\n",
    "#\n",
    "assert values_ == values\n",
    "pd.testing.assert_frame_equal(ans_2_, ans_2)\n",
    "### END HIDDEN TESTS"
   ]
  },
  {
   "cell_type": "markdown",
   "metadata": {
    "id": "MyxT_Pd_uE6L",
    "nbgrader": {
     "grade": false,
     "grade_id": "cell-6d4c7635e3d1702c",
     "locked": true,
     "schema_version": 1,
     "solution": false
    }
   },
   "source": [
    "[Back to top](#Index:) \n",
    "\n",
    "### Problem 3\n",
    "\n",
    "#### Using the `.query()` method\n",
    "\n",
    "**2 Points**\n",
    "\n",
    "The DataFrame also has a method for querying its columns with a boolean expression.  A resulting DataFrame where boolean expression evaluates to True is returned.  To return the players who scored more than 20 points pass a string expression `points > 20`. "
   ]
  },
  {
   "cell_type": "code",
   "execution_count": 8,
   "metadata": {
    "colab": {
     "base_uri": "https://localhost:8080/",
     "height": 110
    },
    "executionInfo": {
     "elapsed": 652,
     "status": "ok",
     "timestamp": 1635153653183,
     "user": {
      "displayName": "farooq sarfraz",
      "photoUrl": "https://lh3.googleusercontent.com/a-/AOh14GgRiDOBb-blcQJmoS9Fw4dPl1VFPCxRvFRmHU6y7A=s64",
      "userId": "02886612156486810823"
     },
     "user_tz": -300
    },
    "id": "47bb89phuE6L",
    "nbgrader": {
     "grade": false,
     "grade_id": "cell-834e964d34dfdb39",
     "locked": true,
     "schema_version": 1,
     "solution": false
    },
    "outputId": "6df16afb-c64c-40b3-fa78-907682683e3b"
   },
   "outputs": [
    {
     "data": {
      "text/html": [
       "<div>\n",
       "<style scoped>\n",
       "    .dataframe tbody tr th:only-of-type {\n",
       "        vertical-align: middle;\n",
       "    }\n",
       "\n",
       "    .dataframe tbody tr th {\n",
       "        vertical-align: top;\n",
       "    }\n",
       "\n",
       "    .dataframe thead th {\n",
       "        text-align: right;\n",
       "    }\n",
       "</style>\n",
       "<table border=\"1\" class=\"dataframe\">\n",
       "  <thead>\n",
       "    <tr style=\"text-align: right;\">\n",
       "      <th></th>\n",
       "      <th>minutes</th>\n",
       "      <th>points</th>\n",
       "      <th>team</th>\n",
       "    </tr>\n",
       "  </thead>\n",
       "  <tbody>\n",
       "    <tr>\n",
       "      <th>lebron</th>\n",
       "      <td>35</td>\n",
       "      <td>21</td>\n",
       "      <td>lakers</td>\n",
       "    </tr>\n",
       "    <tr>\n",
       "      <th>kemba</th>\n",
       "      <td>40</td>\n",
       "      <td>50</td>\n",
       "      <td>knicks</td>\n",
       "    </tr>\n",
       "  </tbody>\n",
       "</table>\n",
       "</div>"
      ],
      "text/plain": [
       "        minutes  points    team\n",
       "lebron       35      21  lakers\n",
       "kemba        40      50  knicks"
      ]
     },
     "execution_count": 8,
     "metadata": {},
     "output_type": "execute_result"
    }
   ],
   "source": [
    "df.query('points > 20')"
   ]
  },
  {
   "cell_type": "markdown",
   "metadata": {
    "id": "sLYbvQCtuE6M",
    "nbgrader": {
     "grade": false,
     "grade_id": "cell-3f7ec63485135aed",
     "locked": true,
     "schema_version": 1,
     "solution": false
    }
   },
   "source": [
    "Use the `.query()` method to select all players who played more than 30 minutes and assign the resulting DataFrame to `ans_3` below."
   ]
  },
  {
   "cell_type": "code",
   "execution_count": 9,
   "metadata": {
    "colab": {
     "base_uri": "https://localhost:8080/",
     "height": 127
    },
    "executionInfo": {
     "elapsed": 503,
     "status": "ok",
     "timestamp": 1635153674639,
     "user": {
      "displayName": "farooq sarfraz",
      "photoUrl": "https://lh3.googleusercontent.com/a-/AOh14GgRiDOBb-blcQJmoS9Fw4dPl1VFPCxRvFRmHU6y7A=s64",
      "userId": "02886612156486810823"
     },
     "user_tz": -300
    },
    "id": "xchNxXqRuE6M",
    "nbgrader": {
     "grade": false,
     "grade_id": "cell-6c610ab149131104",
     "locked": false,
     "schema_version": 1,
     "solution": true
    },
    "outputId": "ea1f4467-5805-483d-c98d-364d09293911"
   },
   "outputs": [
    {
     "name": "stdout",
     "output_type": "stream",
     "text": [
      "<class 'pandas.core.frame.DataFrame'>\n"
     ]
    },
    {
     "data": {
      "text/html": [
       "<div>\n",
       "<style scoped>\n",
       "    .dataframe tbody tr th:only-of-type {\n",
       "        vertical-align: middle;\n",
       "    }\n",
       "\n",
       "    .dataframe tbody tr th {\n",
       "        vertical-align: top;\n",
       "    }\n",
       "\n",
       "    .dataframe thead th {\n",
       "        text-align: right;\n",
       "    }\n",
       "</style>\n",
       "<table border=\"1\" class=\"dataframe\">\n",
       "  <thead>\n",
       "    <tr style=\"text-align: right;\">\n",
       "      <th></th>\n",
       "      <th>minutes</th>\n",
       "      <th>points</th>\n",
       "      <th>team</th>\n",
       "    </tr>\n",
       "  </thead>\n",
       "  <tbody>\n",
       "    <tr>\n",
       "      <th>lebron</th>\n",
       "      <td>35</td>\n",
       "      <td>21</td>\n",
       "      <td>lakers</td>\n",
       "    </tr>\n",
       "    <tr>\n",
       "      <th>kemba</th>\n",
       "      <td>40</td>\n",
       "      <td>50</td>\n",
       "      <td>knicks</td>\n",
       "    </tr>\n",
       "  </tbody>\n",
       "</table>\n",
       "</div>"
      ],
      "text/plain": [
       "        minutes  points    team\n",
       "lebron       35      21  lakers\n",
       "kemba        40      50  knicks"
      ]
     },
     "execution_count": 9,
     "metadata": {},
     "output_type": "execute_result"
    }
   ],
   "source": [
    "### GRADED\n",
    "\n",
    "ans_3 = ''\n",
    "\n",
    "### BEGIN SOLUTION\n",
    "ans_3 = df.query('minutes > 30')\n",
    "### END SOLUTION\n",
    "\n",
    "# Answer check\n",
    "print(type(ans_3))\n",
    "ans_3"
   ]
  },
  {
   "cell_type": "code",
   "execution_count": 10,
   "metadata": {
    "executionInfo": {
     "elapsed": 476,
     "status": "ok",
     "timestamp": 1635153692979,
     "user": {
      "displayName": "farooq sarfraz",
      "photoUrl": "https://lh3.googleusercontent.com/a-/AOh14GgRiDOBb-blcQJmoS9Fw4dPl1VFPCxRvFRmHU6y7A=s64",
      "userId": "02886612156486810823"
     },
     "user_tz": -300
    },
    "id": "uhf4FmKduE6N",
    "nbgrader": {
     "grade": true,
     "grade_id": "cell-0887ad8c3ffbf78d",
     "locked": true,
     "points": 2,
     "schema_version": 1,
     "solution": false
    }
   },
   "outputs": [],
   "source": [
    "### BEGIN HIDDEN TESTS\n",
    "df_ = pd.DataFrame({'minutes': [30, 35, 40],\n",
    "                  'points': [13, 21, 50],\n",
    "                  'team': ['knicks', 'lakers', 'knicks']},\n",
    "                 index = ['drose', 'lebron', 'kemba'])\n",
    "\n",
    "ans_3_ = df_.query('minutes > 30')\n",
    "#\n",
    "#\n",
    "#\n",
    "pd.testing.assert_frame_equal(ans_3_, ans_3)\n",
    "### END HIDDEN TESTS"
   ]
  },
  {
   "cell_type": "markdown",
   "metadata": {
    "id": "RVYORLyEuE6N",
    "nbgrader": {
     "grade": false,
     "grade_id": "cell-4163073801eb867c",
     "locked": true,
     "schema_version": 1,
     "solution": false
    }
   },
   "source": [
    "[Back to top](#Index:) \n",
    "\n",
    "### Problem 4\n",
    "\n",
    "#### Passing multiple conditions to the `.query()` method.\n",
    "\n",
    "**2 Points**\n",
    "\n",
    "To combine expressions the `.query` method joins arguments using `and` and `or` as a single string.\n",
    "\n",
    "```python\n",
    "df.query('column comparison to join column comparison to')\n",
    "```\n",
    "\n",
    "Use the `.query` method to create a DataFrame with players who played more than 30 minutes and scored more than 25 points.  Save your resulting DataFrame to `ans_4` below."
   ]
  },
  {
   "cell_type": "code",
   "execution_count": 11,
   "metadata": {
    "colab": {
     "base_uri": "https://localhost:8080/",
     "height": 97
    },
    "executionInfo": {
     "elapsed": 707,
     "status": "ok",
     "timestamp": 1635153714840,
     "user": {
      "displayName": "farooq sarfraz",
      "photoUrl": "https://lh3.googleusercontent.com/a-/AOh14GgRiDOBb-blcQJmoS9Fw4dPl1VFPCxRvFRmHU6y7A=s64",
      "userId": "02886612156486810823"
     },
     "user_tz": -300
    },
    "id": "9P5hhbiYuE6N",
    "nbgrader": {
     "grade": false,
     "grade_id": "cell-ef536698a394045a",
     "locked": false,
     "schema_version": 1,
     "solution": true
    },
    "outputId": "771f4ac8-0fee-4826-cee1-02183fdae2dc"
   },
   "outputs": [
    {
     "name": "stdout",
     "output_type": "stream",
     "text": [
      "<class 'pandas.core.frame.DataFrame'>\n"
     ]
    },
    {
     "data": {
      "text/html": [
       "<div>\n",
       "<style scoped>\n",
       "    .dataframe tbody tr th:only-of-type {\n",
       "        vertical-align: middle;\n",
       "    }\n",
       "\n",
       "    .dataframe tbody tr th {\n",
       "        vertical-align: top;\n",
       "    }\n",
       "\n",
       "    .dataframe thead th {\n",
       "        text-align: right;\n",
       "    }\n",
       "</style>\n",
       "<table border=\"1\" class=\"dataframe\">\n",
       "  <thead>\n",
       "    <tr style=\"text-align: right;\">\n",
       "      <th></th>\n",
       "      <th>minutes</th>\n",
       "      <th>points</th>\n",
       "      <th>team</th>\n",
       "    </tr>\n",
       "  </thead>\n",
       "  <tbody>\n",
       "    <tr>\n",
       "      <th>kemba</th>\n",
       "      <td>40</td>\n",
       "      <td>50</td>\n",
       "      <td>knicks</td>\n",
       "    </tr>\n",
       "  </tbody>\n",
       "</table>\n",
       "</div>"
      ],
      "text/plain": [
       "       minutes  points    team\n",
       "kemba       40      50  knicks"
      ]
     },
     "execution_count": 11,
     "metadata": {},
     "output_type": "execute_result"
    }
   ],
   "source": [
    "### GRADED\n",
    "\n",
    "ans_4 = ''\n",
    "\n",
    "### BEGIN SOLUTION\n",
    "ans_4 = df.query('minutes > 30 and points > 25')\n",
    "### END SOLUTION\n",
    "print(type(ans_4))\n",
    "ans_4"
   ]
  },
  {
   "cell_type": "code",
   "execution_count": 12,
   "metadata": {
    "id": "-xYCd7JauE6O",
    "nbgrader": {
     "grade": true,
     "grade_id": "cell-ce00983c6922359e",
     "locked": true,
     "points": 2,
     "schema_version": 1,
     "solution": false
    }
   },
   "outputs": [],
   "source": [
    "### BEGIN HIDDEN TESTS\n",
    "df_ = pd.DataFrame({'minutes': [30, 35, 40],\n",
    "                  'points': [13, 21, 50],\n",
    "                  'team': ['knicks', 'lakers', 'knicks']},\n",
    "                 index = ['drose', 'lebron', 'kemba'])\n",
    "\n",
    "ans_4_ = df_.query('minutes > 30 and points > 25')\n",
    "#\n",
    "#\n",
    "#\n",
    "pd.testing.assert_frame_equal(ans_4_, ans_4)\n",
    "### END HIDDEN TESTS"
   ]
  },
  {
   "cell_type": "markdown",
   "metadata": {
    "id": "fxLQsv1nuE6O",
    "nbgrader": {
     "grade": false,
     "grade_id": "cell-0d803fd1995bf136",
     "locked": true,
     "schema_version": 1,
     "solution": false
    }
   },
   "source": [
    "[Back to top](#Index:) \n",
    "\n",
    "### Problem 5\n",
    "\n",
    "#### Using a string method to query \n",
    "\n",
    "**2 Points**\n",
    "\n",
    "To use object methods from the base python installations, use the name of the column, followed by the appropriate datatype constructor and subsequent method. When using a python method, the engine argument must be specified. For example, to select teams that contain the letter \"k\"."
   ]
  },
  {
   "cell_type": "code",
   "execution_count": 13,
   "metadata": {
    "id": "Wm0V1zgbuE6O",
    "nbgrader": {
     "grade": false,
     "grade_id": "cell-739ecff3a89147c6",
     "locked": true,
     "schema_version": 1,
     "solution": false
    },
    "outputId": "6ccbae3f-0f22-47d4-9329-78b5cac0a4bb"
   },
   "outputs": [
    {
     "data": {
      "text/html": [
       "<div>\n",
       "<style scoped>\n",
       "    .dataframe tbody tr th:only-of-type {\n",
       "        vertical-align: middle;\n",
       "    }\n",
       "\n",
       "    .dataframe tbody tr th {\n",
       "        vertical-align: top;\n",
       "    }\n",
       "\n",
       "    .dataframe thead th {\n",
       "        text-align: right;\n",
       "    }\n",
       "</style>\n",
       "<table border=\"1\" class=\"dataframe\">\n",
       "  <thead>\n",
       "    <tr style=\"text-align: right;\">\n",
       "      <th></th>\n",
       "      <th>minutes</th>\n",
       "      <th>points</th>\n",
       "      <th>team</th>\n",
       "    </tr>\n",
       "  </thead>\n",
       "  <tbody>\n",
       "    <tr>\n",
       "      <th>drose</th>\n",
       "      <td>30</td>\n",
       "      <td>13</td>\n",
       "      <td>knicks</td>\n",
       "    </tr>\n",
       "    <tr>\n",
       "      <th>lebron</th>\n",
       "      <td>35</td>\n",
       "      <td>21</td>\n",
       "      <td>lakers</td>\n",
       "    </tr>\n",
       "    <tr>\n",
       "      <th>kemba</th>\n",
       "      <td>40</td>\n",
       "      <td>50</td>\n",
       "      <td>knicks</td>\n",
       "    </tr>\n",
       "  </tbody>\n",
       "</table>\n",
       "</div>"
      ],
      "text/plain": [
       "        minutes  points    team\n",
       "drose        30      13  knicks\n",
       "lebron       35      21  lakers\n",
       "kemba        40      50  knicks"
      ]
     },
     "execution_count": 13,
     "metadata": {},
     "output_type": "execute_result"
    }
   ],
   "source": [
    "df.query('team.str.contains(\"k\")',\n",
    "        engine = \"python\")"
   ]
  },
  {
   "cell_type": "markdown",
   "metadata": {
    "id": "0pYUPobhuE6P",
    "nbgrader": {
     "grade": false,
     "grade_id": "cell-6d91b66782e55903",
     "locked": true,
     "schema_version": 1,
     "solution": false
    }
   },
   "source": [
    "Use a string method to select all rows where the team starts with the letter \"k\".  Assign your solution to `ans_5` below."
   ]
  },
  {
   "cell_type": "code",
   "execution_count": 14,
   "metadata": {
    "colab": {
     "base_uri": "https://localhost:8080/",
     "height": 127
    },
    "executionInfo": {
     "elapsed": 530,
     "status": "ok",
     "timestamp": 1635153883394,
     "user": {
      "displayName": "farooq sarfraz",
      "photoUrl": "https://lh3.googleusercontent.com/a-/AOh14GgRiDOBb-blcQJmoS9Fw4dPl1VFPCxRvFRmHU6y7A=s64",
      "userId": "02886612156486810823"
     },
     "user_tz": -300
    },
    "id": "TeQotoUwuE6P",
    "nbgrader": {
     "grade": false,
     "grade_id": "cell-e73d67acfa02e636",
     "locked": false,
     "schema_version": 1,
     "solution": true
    },
    "outputId": "cf10dcd4-8ef5-443b-9b3e-97104bf98eee"
   },
   "outputs": [
    {
     "name": "stdout",
     "output_type": "stream",
     "text": [
      "<class 'pandas.core.frame.DataFrame'>\n"
     ]
    },
    {
     "data": {
      "text/html": [
       "<div>\n",
       "<style scoped>\n",
       "    .dataframe tbody tr th:only-of-type {\n",
       "        vertical-align: middle;\n",
       "    }\n",
       "\n",
       "    .dataframe tbody tr th {\n",
       "        vertical-align: top;\n",
       "    }\n",
       "\n",
       "    .dataframe thead th {\n",
       "        text-align: right;\n",
       "    }\n",
       "</style>\n",
       "<table border=\"1\" class=\"dataframe\">\n",
       "  <thead>\n",
       "    <tr style=\"text-align: right;\">\n",
       "      <th></th>\n",
       "      <th>minutes</th>\n",
       "      <th>points</th>\n",
       "      <th>team</th>\n",
       "    </tr>\n",
       "  </thead>\n",
       "  <tbody>\n",
       "    <tr>\n",
       "      <th>drose</th>\n",
       "      <td>30</td>\n",
       "      <td>13</td>\n",
       "      <td>knicks</td>\n",
       "    </tr>\n",
       "    <tr>\n",
       "      <th>kemba</th>\n",
       "      <td>40</td>\n",
       "      <td>50</td>\n",
       "      <td>knicks</td>\n",
       "    </tr>\n",
       "  </tbody>\n",
       "</table>\n",
       "</div>"
      ],
      "text/plain": [
       "       minutes  points    team\n",
       "drose       30      13  knicks\n",
       "kemba       40      50  knicks"
      ]
     },
     "execution_count": 14,
     "metadata": {},
     "output_type": "execute_result"
    }
   ],
   "source": [
    "### GRADED\n",
    "\n",
    "ans_5 = ''\n",
    "\n",
    "### BEGIN SOLUTION\n",
    "ans_5 = df.query('team.str.startswith(\"k\")',\n",
    "                engine = \"python\")\n",
    "### END SOLUTION\n",
    "print(type(ans_5))\n",
    "ans_5"
   ]
  },
  {
   "cell_type": "code",
   "execution_count": 15,
   "metadata": {
    "id": "c_uqfv-SuE6Q",
    "nbgrader": {
     "grade": true,
     "grade_id": "cell-dc97cc0e23212d7d",
     "locked": true,
     "points": 2,
     "schema_version": 1,
     "solution": false
    }
   },
   "outputs": [],
   "source": [
    "### BEGIN HIDDEN TESTS\n",
    "df_ = pd.DataFrame({'minutes': [30, 35, 40],\n",
    "                  'points': [13, 21, 50],\n",
    "                  'team': ['knicks', 'lakers', 'knicks']},\n",
    "                 index = ['drose', 'lebron', 'kemba'])\n",
    "\n",
    "ans_5_ = df_.query('team.str.startswith(\"k\")',\n",
    "                engine = \"python\")\n",
    "#\n",
    "#\n",
    "#\n",
    "pd.testing.assert_frame_equal(ans_5_, ans_5)\n",
    "### END HIDDEN TESTS"
   ]
  }
 ],
 "metadata": {
  "celltoolbar": "Create Assignment",
  "colab": {
   "name": "coding_activity_3.1.ipynb",
   "provenance": []
  },
  "kernelspec": {
   "display_name": "Python 3",
   "language": "python",
   "name": "python3"
  },
  "language_info": {
   "codemirror_mode": {
    "name": "ipython",
    "version": 3
   },
   "file_extension": ".py",
   "mimetype": "text/x-python",
   "name": "python",
   "nbconvert_exporter": "python",
   "pygments_lexer": "ipython3",
   "version": "3.6.9"
  }
 },
 "nbformat": 4,
 "nbformat_minor": 1
}
