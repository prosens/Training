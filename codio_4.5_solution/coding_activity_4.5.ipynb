{
 "cells": [
  {
   "cell_type": "markdown",
   "metadata": {
    "nbgrader": {
     "grade": false,
     "grade_id": "cell-c95102d8e7bccebf",
     "locked": true,
     "schema_version": 1,
     "solution": false
    }
   },
   "source": [
    "### Codio Activity 4.5: String Operations\n",
    "\n",
    "\n",
    "**Expected Time: 60 Minutes**\n",
    "\n",
    "**Total Points: 20**\n",
    "\n",
    "\n",
    "For this activity, you will focus on using string methods on `pandas` series.  Following the examples from video 4.8, a wikipedia page on the states of the russian federation will be the dataset.  Below is a map of the boundaries for the states. \n",
    "\n",
    "#### Index:\n",
    "\n",
    "- [Problem 1](#Problem-1)\n",
    "- [Problem 2](#Problem-2)\n",
    "- [Problem 3](#Problem-3)\n",
    "- [Problem 4](#Problem-4)\n",
    "\n",
    "![](https://upload.wikimedia.org/wikipedia/commons/thumb/7/7d/Map_of_federal_subjects_of_Russia_%282014%29.svg/1380px-Map_of_federal_subjects_of_Russia_%282014%29.svg.png)"
   ]
  },
  {
   "cell_type": "markdown",
   "metadata": {
    "nbgrader": {
     "grade": false,
     "grade_id": "cell-b5e784a8664a2700",
     "locked": true,
     "schema_version": 1,
     "solution": false
    }
   },
   "source": [
    "### Getting the Data\n",
    "\n",
    "Below, we access the data directly using the url and the `read_html` method from `pandas`.  This method reads any table from a web url in as a list of dataframes.  The data we are interested in is located in the fifth table on the page so we index the list of data accordingly below."
   ]
  },
  {
   "cell_type": "code",
   "execution_count": 73,
   "metadata": {
    "nbgrader": {
     "grade": false,
     "grade_id": "cell-8d2ffb96c4c2827e",
     "locked": true,
     "schema_version": 1,
     "solution": false
    },
    "tags": []
   },
   "outputs": [],
   "source": [
    "import pandas as pd"
   ]
  },
  {
   "cell_type": "code",
   "execution_count": 75,
   "metadata": {
    "nbgrader": {
     "grade": false,
     "grade_id": "cell-c3929c64c7e703b0",
     "locked": true,
     "schema_version": 1,
     "solution": false
    },
    "tags": []
   },
   "outputs": [],
   "source": [
    "russian_states = pd.read_csv('data/russian_states.csv', index_col = 0)"
   ]
  },
  {
   "cell_type": "code",
   "execution_count": 77,
   "metadata": {
    "nbgrader": {
     "grade": false,
     "grade_id": "cell-987d4e6af2127f01",
     "locked": true,
     "schema_version": 1,
     "solution": false
    },
    "tags": []
   },
   "outputs": [
    {
     "data": {
      "text/html": [
       "<div>\n",
       "<style scoped>\n",
       "    .dataframe tbody tr th:only-of-type {\n",
       "        vertical-align: middle;\n",
       "    }\n",
       "\n",
       "    .dataframe tbody tr th {\n",
       "        vertical-align: top;\n",
       "    }\n",
       "\n",
       "    .dataframe thead th {\n",
       "        text-align: right;\n",
       "    }\n",
       "</style>\n",
       "<table border=\"1\" class=\"dataframe\">\n",
       "  <thead>\n",
       "    <tr style=\"text-align: right;\">\n",
       "      <th></th>\n",
       "      <th>Code</th>\n",
       "      <th>Name</th>\n",
       "      <th>Capital/Administrative centre[a]</th>\n",
       "      <th>Flag</th>\n",
       "      <th>Coatof arms</th>\n",
       "      <th>Type</th>\n",
       "      <th>Federal district</th>\n",
       "      <th>Economic region</th>\n",
       "      <th>Area(km2)[16]</th>\n",
       "      <th>Population[17]</th>\n",
       "      <th>Populationdensity(/km2)</th>\n",
       "      <th>Yearestablished</th>\n",
       "    </tr>\n",
       "  </thead>\n",
       "  <tbody>\n",
       "    <tr>\n",
       "      <th>0</th>\n",
       "      <td>1</td>\n",
       "      <td>Adygea, Republic of</td>\n",
       "      <td>Maykop</td>\n",
       "      <td>NaN</td>\n",
       "      <td>NaN</td>\n",
       "      <td>republic</td>\n",
       "      <td>Southern</td>\n",
       "      <td>North Caucasus</td>\n",
       "      <td>7600</td>\n",
       "      <td>447109</td>\n",
       "      <td>58.83</td>\n",
       "      <td>1922</td>\n",
       "    </tr>\n",
       "    <tr>\n",
       "      <th>1</th>\n",
       "      <td>2</td>\n",
       "      <td>Bashkortostan, Republic of</td>\n",
       "      <td>Ufa</td>\n",
       "      <td>NaN</td>\n",
       "      <td>NaN</td>\n",
       "      <td>republic</td>\n",
       "      <td>Volga</td>\n",
       "      <td>Ural</td>\n",
       "      <td>143600</td>\n",
       "      <td>4104336</td>\n",
       "      <td>28.58</td>\n",
       "      <td>1919</td>\n",
       "    </tr>\n",
       "    <tr>\n",
       "      <th>2</th>\n",
       "      <td>3</td>\n",
       "      <td>Buryatia, Republic of</td>\n",
       "      <td>Ulan-Ude</td>\n",
       "      <td>NaN</td>\n",
       "      <td>NaN</td>\n",
       "      <td>republic</td>\n",
       "      <td>Far Eastern</td>\n",
       "      <td>East Siberian</td>\n",
       "      <td>351300</td>\n",
       "      <td>981238</td>\n",
       "      <td>2.79</td>\n",
       "      <td>1923</td>\n",
       "    </tr>\n",
       "    <tr>\n",
       "      <th>3</th>\n",
       "      <td>4</td>\n",
       "      <td>Altai Republic</td>\n",
       "      <td>Gorno-Altaysk</td>\n",
       "      <td>NaN</td>\n",
       "      <td>NaN</td>\n",
       "      <td>republic</td>\n",
       "      <td>Siberian</td>\n",
       "      <td>West Siberian</td>\n",
       "      <td>92600</td>\n",
       "      <td>202947</td>\n",
       "      <td>2.19</td>\n",
       "      <td>1922</td>\n",
       "    </tr>\n",
       "    <tr>\n",
       "      <th>4</th>\n",
       "      <td>5</td>\n",
       "      <td>Dagestan, Republic of</td>\n",
       "      <td>Makhachkala</td>\n",
       "      <td>NaN</td>\n",
       "      <td>NaN</td>\n",
       "      <td>republic</td>\n",
       "      <td>North Caucasian</td>\n",
       "      <td>North Caucasus</td>\n",
       "      <td>50300</td>\n",
       "      <td>2576531</td>\n",
       "      <td>51.22</td>\n",
       "      <td>1921</td>\n",
       "    </tr>\n",
       "  </tbody>\n",
       "</table>\n",
       "</div>"
      ],
      "text/plain": [
       "   Code                        Name Capital/Administrative centre[a]  Flag  \\\n",
       "0     1         Adygea, Republic of                           Maykop   NaN   \n",
       "1     2  Bashkortostan, Republic of                              Ufa   NaN   \n",
       "2     3       Buryatia, Republic of                         Ulan-Ude   NaN   \n",
       "3     4              Altai Republic                    Gorno-Altaysk   NaN   \n",
       "4     5       Dagestan, Republic of                      Makhachkala   NaN   \n",
       "\n",
       "   Coatof arms      Type Federal district Economic region Area(km2)[16]  \\\n",
       "0          NaN  republic         Southern  North Caucasus          7600   \n",
       "1          NaN  republic            Volga            Ural        143600   \n",
       "2          NaN  republic      Far Eastern   East Siberian        351300   \n",
       "3          NaN  republic         Siberian   West Siberian         92600   \n",
       "4          NaN  republic  North Caucasian  North Caucasus         50300   \n",
       "\n",
       "  Population[17]  Populationdensity(/km2)  Yearestablished  \n",
       "0         447109                    58.83             1922  \n",
       "1        4104336                    28.58             1919  \n",
       "2         981238                     2.79             1923  \n",
       "3         202947                     2.19             1922  \n",
       "4        2576531                    51.22             1921  "
      ]
     },
     "execution_count": 77,
     "metadata": {},
     "output_type": "execute_result"
    }
   ],
   "source": [
    "russian_states.head()"
   ]
  },
  {
   "cell_type": "markdown",
   "metadata": {
    "nbgrader": {
     "grade": false,
     "grade_id": "cell-4698aa034b05d664",
     "locked": true,
     "schema_version": 1,
     "solution": false
    }
   },
   "source": [
    "[Back to top](#Index:) \n",
    "\n",
    "### Problem 1\n",
    "\n",
    "#### Using the `contains` method\n",
    "\n",
    "**5 Points**\n",
    "\n",
    "Use the string method `contains` to subset the data based on entries in the Economic Region column containing `Siberian`.  Assign your response as a DataFrame to `ans1` below."
   ]
  },
  {
   "cell_type": "code",
   "execution_count": 80,
   "metadata": {
    "nbgrader": {
     "grade": false,
     "grade_id": "cell-69b100fd1408e91a",
     "locked": false,
     "schema_version": 1,
     "solution": true
    },
    "tags": []
   },
   "outputs": [
    {
     "name": "stdout",
     "output_type": "stream",
     "text": [
      "(15, 12)\n"
     ]
    },
    {
     "data": {
      "text/html": [
       "<div>\n",
       "<style scoped>\n",
       "    .dataframe tbody tr th:only-of-type {\n",
       "        vertical-align: middle;\n",
       "    }\n",
       "\n",
       "    .dataframe tbody tr th {\n",
       "        vertical-align: top;\n",
       "    }\n",
       "\n",
       "    .dataframe thead th {\n",
       "        text-align: right;\n",
       "    }\n",
       "</style>\n",
       "<table border=\"1\" class=\"dataframe\">\n",
       "  <thead>\n",
       "    <tr style=\"text-align: right;\">\n",
       "      <th></th>\n",
       "      <th>Code</th>\n",
       "      <th>Name</th>\n",
       "      <th>Capital/Administrative centre[a]</th>\n",
       "      <th>Flag</th>\n",
       "      <th>Coatof arms</th>\n",
       "      <th>Type</th>\n",
       "      <th>Federal district</th>\n",
       "      <th>Economic region</th>\n",
       "      <th>Area(km2)[16]</th>\n",
       "      <th>Population[17]</th>\n",
       "      <th>Populationdensity(/km2)</th>\n",
       "      <th>Yearestablished</th>\n",
       "    </tr>\n",
       "  </thead>\n",
       "  <tbody>\n",
       "    <tr>\n",
       "      <th>2</th>\n",
       "      <td>3</td>\n",
       "      <td>Buryatia, Republic of</td>\n",
       "      <td>Ulan-Ude</td>\n",
       "      <td>NaN</td>\n",
       "      <td>NaN</td>\n",
       "      <td>republic</td>\n",
       "      <td>Far Eastern</td>\n",
       "      <td>East Siberian</td>\n",
       "      <td>351300</td>\n",
       "      <td>981238</td>\n",
       "      <td>2.79</td>\n",
       "      <td>1923</td>\n",
       "    </tr>\n",
       "    <tr>\n",
       "      <th>3</th>\n",
       "      <td>4</td>\n",
       "      <td>Altai Republic</td>\n",
       "      <td>Gorno-Altaysk</td>\n",
       "      <td>NaN</td>\n",
       "      <td>NaN</td>\n",
       "      <td>republic</td>\n",
       "      <td>Siberian</td>\n",
       "      <td>West Siberian</td>\n",
       "      <td>92600</td>\n",
       "      <td>202947</td>\n",
       "      <td>2.19</td>\n",
       "      <td>1922</td>\n",
       "    </tr>\n",
       "    <tr>\n",
       "      <th>16</th>\n",
       "      <td>17</td>\n",
       "      <td>Tuva Republic</td>\n",
       "      <td>Kyzyl</td>\n",
       "      <td>NaN</td>\n",
       "      <td>NaN</td>\n",
       "      <td>republic</td>\n",
       "      <td>Siberian</td>\n",
       "      <td>East Siberian</td>\n",
       "      <td>170500</td>\n",
       "      <td>305510</td>\n",
       "      <td>1.79</td>\n",
       "      <td>1944</td>\n",
       "    </tr>\n",
       "    <tr>\n",
       "      <th>18</th>\n",
       "      <td>19</td>\n",
       "      <td>Khakassia, Republic of</td>\n",
       "      <td>Abakan</td>\n",
       "      <td>NaN</td>\n",
       "      <td>NaN</td>\n",
       "      <td>republic</td>\n",
       "      <td>Siberian</td>\n",
       "      <td>East Siberian</td>\n",
       "      <td>61900</td>\n",
       "      <td>546072</td>\n",
       "      <td>8.82</td>\n",
       "      <td>1930</td>\n",
       "    </tr>\n",
       "    <tr>\n",
       "      <th>21</th>\n",
       "      <td>22</td>\n",
       "      <td>Altai Krai</td>\n",
       "      <td>Barnaul</td>\n",
       "      <td>NaN</td>\n",
       "      <td>NaN</td>\n",
       "      <td>krai</td>\n",
       "      <td>Siberian</td>\n",
       "      <td>West Siberian</td>\n",
       "      <td>169100</td>\n",
       "      <td>2607426</td>\n",
       "      <td>15.42</td>\n",
       "      <td>1937</td>\n",
       "    </tr>\n",
       "  </tbody>\n",
       "</table>\n",
       "</div>"
      ],
      "text/plain": [
       "    Code                    Name Capital/Administrative centre[a]  Flag  \\\n",
       "2      3   Buryatia, Republic of                         Ulan-Ude   NaN   \n",
       "3      4          Altai Republic                    Gorno-Altaysk   NaN   \n",
       "16    17           Tuva Republic                            Kyzyl   NaN   \n",
       "18    19  Khakassia, Republic of                           Abakan   NaN   \n",
       "21    22              Altai Krai                          Barnaul   NaN   \n",
       "\n",
       "    Coatof arms      Type Federal district Economic region Area(km2)[16]  \\\n",
       "2           NaN  republic      Far Eastern   East Siberian        351300   \n",
       "3           NaN  republic         Siberian   West Siberian         92600   \n",
       "16          NaN  republic         Siberian   East Siberian        170500   \n",
       "18          NaN  republic         Siberian   East Siberian         61900   \n",
       "21          NaN      krai         Siberian   West Siberian        169100   \n",
       "\n",
       "   Population[17]  Populationdensity(/km2)  Yearestablished  \n",
       "2          981238                     2.79             1923  \n",
       "3          202947                     2.19             1922  \n",
       "16         305510                     1.79             1944  \n",
       "18         546072                     8.82             1930  \n",
       "21        2607426                    15.42             1937  "
      ]
     },
     "execution_count": 80,
     "metadata": {},
     "output_type": "execute_result"
    }
   ],
   "source": [
    "### GRADED\n",
    "\n",
    "ans1 = None\n",
    "\n",
    "### BEGIN SOLUTION\n",
    "ans1 = russian_states[russian_states['Economic region'].str.contains('Siberian')]\n",
    "type(ans1)\n",
    "### END SOLUTION\n",
    "\n",
    "# Answer check\n",
    "print(ans1.shape)\n",
    "ans1.head()"
   ]
  },
  {
   "cell_type": "code",
   "execution_count": 82,
   "metadata": {
    "nbgrader": {
     "grade": true,
     "grade_id": "cell-1de07c86f4ae43cc",
     "locked": true,
     "points": 5,
     "schema_version": 1,
     "solution": false
    },
    "tags": []
   },
   "outputs": [],
   "source": [
    "### BEGIN HIDDEN TESTS\n",
    "russian_states_ = pd.read_csv('data/russian_states.csv', index_col = 0)\n",
    "ans1_ = russian_states_.loc[russian_states_['Economic region'].str.contains(\"Siberian\")]\n",
    "#\n",
    "#\n",
    "#\n",
    "assert type(ans1) == type(ans1_)\n",
    "pd.testing.assert_frame_equal(ans1, ans1_)\n",
    "### END HIDDEN TESTS"
   ]
  },
  {
   "cell_type": "markdown",
   "metadata": {
    "nbgrader": {
     "grade": false,
     "grade_id": "cell-60249eaf5d390430",
     "locked": true,
     "schema_version": 1,
     "solution": false
    }
   },
   "source": [
    "[Back to top](#Index:) \n",
    "\n",
    "### Problem 2\n",
    "\n",
    "#### Using the `startswith` method\n",
    "\n",
    "**5 Points**\n",
    "\n",
    "Subset the data based on entries in the Economic region column that start with `North`.  Assign your answer as a DataFrame to `ans2` below."
   ]
  },
  {
   "cell_type": "code",
   "execution_count": 85,
   "metadata": {
    "nbgrader": {
     "grade": false,
     "grade_id": "cell-0f898f719d53e4c3",
     "locked": false,
     "schema_version": 1,
     "solution": true
    },
    "tags": []
   },
   "outputs": [
    {
     "name": "stdout",
     "output_type": "stream",
     "text": [
      "(22, 12)\n"
     ]
    },
    {
     "data": {
      "text/html": [
       "<div>\n",
       "<style scoped>\n",
       "    .dataframe tbody tr th:only-of-type {\n",
       "        vertical-align: middle;\n",
       "    }\n",
       "\n",
       "    .dataframe tbody tr th {\n",
       "        vertical-align: top;\n",
       "    }\n",
       "\n",
       "    .dataframe thead th {\n",
       "        text-align: right;\n",
       "    }\n",
       "</style>\n",
       "<table border=\"1\" class=\"dataframe\">\n",
       "  <thead>\n",
       "    <tr style=\"text-align: right;\">\n",
       "      <th></th>\n",
       "      <th>Code</th>\n",
       "      <th>Name</th>\n",
       "      <th>Capital/Administrative centre[a]</th>\n",
       "      <th>Flag</th>\n",
       "      <th>Coatof arms</th>\n",
       "      <th>Type</th>\n",
       "      <th>Federal district</th>\n",
       "      <th>Economic region</th>\n",
       "      <th>Area(km2)[16]</th>\n",
       "      <th>Population[17]</th>\n",
       "      <th>Populationdensity(/km2)</th>\n",
       "      <th>Yearestablished</th>\n",
       "    </tr>\n",
       "  </thead>\n",
       "  <tbody>\n",
       "    <tr>\n",
       "      <th>0</th>\n",
       "      <td>1</td>\n",
       "      <td>Adygea, Republic of</td>\n",
       "      <td>Maykop</td>\n",
       "      <td>NaN</td>\n",
       "      <td>NaN</td>\n",
       "      <td>republic</td>\n",
       "      <td>Southern</td>\n",
       "      <td>North Caucasus</td>\n",
       "      <td>7600</td>\n",
       "      <td>447109</td>\n",
       "      <td>58.83</td>\n",
       "      <td>1922</td>\n",
       "    </tr>\n",
       "    <tr>\n",
       "      <th>4</th>\n",
       "      <td>5</td>\n",
       "      <td>Dagestan, Republic of</td>\n",
       "      <td>Makhachkala</td>\n",
       "      <td>NaN</td>\n",
       "      <td>NaN</td>\n",
       "      <td>republic</td>\n",
       "      <td>North Caucasian</td>\n",
       "      <td>North Caucasus</td>\n",
       "      <td>50300</td>\n",
       "      <td>2576531</td>\n",
       "      <td>51.22</td>\n",
       "      <td>1921</td>\n",
       "    </tr>\n",
       "    <tr>\n",
       "      <th>5</th>\n",
       "      <td>6</td>\n",
       "      <td>Ingushetia, Republic of</td>\n",
       "      <td>Magas(Largest city: Nazran)</td>\n",
       "      <td>NaN</td>\n",
       "      <td>NaN</td>\n",
       "      <td>republic</td>\n",
       "      <td>North Caucasian</td>\n",
       "      <td>North Caucasus</td>\n",
       "      <td>4000</td>\n",
       "      <td>467294</td>\n",
       "      <td>116.82</td>\n",
       "      <td>1992</td>\n",
       "    </tr>\n",
       "    <tr>\n",
       "      <th>6</th>\n",
       "      <td>7</td>\n",
       "      <td>Kabardino-Balkar Republic</td>\n",
       "      <td>Nalchik</td>\n",
       "      <td>NaN</td>\n",
       "      <td>NaN</td>\n",
       "      <td>republic</td>\n",
       "      <td>North Caucasian</td>\n",
       "      <td>North Caucasus</td>\n",
       "      <td>12500</td>\n",
       "      <td>901494</td>\n",
       "      <td>72.12</td>\n",
       "      <td>1936</td>\n",
       "    </tr>\n",
       "    <tr>\n",
       "      <th>8</th>\n",
       "      <td>9</td>\n",
       "      <td>Karachay-Cherkess Republic</td>\n",
       "      <td>Cherkessk</td>\n",
       "      <td>NaN</td>\n",
       "      <td>NaN</td>\n",
       "      <td>republic</td>\n",
       "      <td>North Caucasian</td>\n",
       "      <td>North Caucasus</td>\n",
       "      <td>14100</td>\n",
       "      <td>439470</td>\n",
       "      <td>31.17</td>\n",
       "      <td>1957</td>\n",
       "    </tr>\n",
       "  </tbody>\n",
       "</table>\n",
       "</div>"
      ],
      "text/plain": [
       "   Code                        Name Capital/Administrative centre[a]  Flag  \\\n",
       "0     1         Adygea, Republic of                           Maykop   NaN   \n",
       "4     5       Dagestan, Republic of                      Makhachkala   NaN   \n",
       "5     6     Ingushetia, Republic of      Magas(Largest city: Nazran)   NaN   \n",
       "6     7   Kabardino-Balkar Republic                          Nalchik   NaN   \n",
       "8     9  Karachay-Cherkess Republic                        Cherkessk   NaN   \n",
       "\n",
       "   Coatof arms      Type Federal district Economic region Area(km2)[16]  \\\n",
       "0          NaN  republic         Southern  North Caucasus          7600   \n",
       "4          NaN  republic  North Caucasian  North Caucasus         50300   \n",
       "5          NaN  republic  North Caucasian  North Caucasus          4000   \n",
       "6          NaN  republic  North Caucasian  North Caucasus         12500   \n",
       "8          NaN  republic  North Caucasian  North Caucasus         14100   \n",
       "\n",
       "  Population[17]  Populationdensity(/km2)  Yearestablished  \n",
       "0         447109                    58.83             1922  \n",
       "4        2576531                    51.22             1921  \n",
       "5         467294                   116.82             1992  \n",
       "6         901494                    72.12             1936  \n",
       "8         439470                    31.17             1957  "
      ]
     },
     "execution_count": 85,
     "metadata": {},
     "output_type": "execute_result"
    }
   ],
   "source": [
    "### GRADED\n",
    "\n",
    "ans2 = None\n",
    "\n",
    "### BEGIN SOLUTION\n",
    "ans2 = russian_states[russian_states['Economic region'].str.startswith('North')]\n",
    "type(ans2)\n",
    "### END SOLUTION\n",
    "\n",
    "# Answer check\n",
    "print(ans2.shape)\n",
    "ans2.head()"
   ]
  },
  {
   "cell_type": "code",
   "execution_count": 87,
   "metadata": {
    "nbgrader": {
     "grade": true,
     "grade_id": "cell-99d4a7e77d5acc3b",
     "locked": true,
     "points": 5,
     "schema_version": 1,
     "solution": false
    },
    "tags": []
   },
   "outputs": [],
   "source": [
    "### BEGIN HIDDEN TESTS\n",
    "russian_states_ = pd.read_csv('data/russian_states.csv', index_col = 0)\n",
    "ans2_ = russian_states_.loc[russian_states_['Economic region'].str.startswith('North')]\n",
    "#\n",
    "#\n",
    "#\n",
    "assert type(ans2) == type(ans2_)\n",
    "pd.testing.assert_frame_equal(ans2, ans2_)\n",
    "### END HIDDEN TESTS"
   ]
  },
  {
   "cell_type": "markdown",
   "metadata": {
    "nbgrader": {
     "grade": false,
     "grade_id": "cell-03e6e3e859cf241c",
     "locked": true,
     "schema_version": 1,
     "solution": false
    }
   },
   "source": [
    "[Back to top](#Index:) \n",
    "\n",
    "### Problem 3: Using the `upper` method\n",
    "\n",
    "**5 Points**\n",
    "\n",
    "Use the `upper` method to create a series with the Federal District column all uppercased.  Assign your response as a Series to `ans3` below."
   ]
  },
  {
   "cell_type": "code",
   "execution_count": 90,
   "metadata": {
    "nbgrader": {
     "grade": false,
     "grade_id": "cell-228226682431b099",
     "locked": false,
     "schema_version": 1,
     "solution": true
    },
    "tags": []
   },
   "outputs": [
    {
     "name": "stdout",
     "output_type": "stream",
     "text": [
      "<class 'pandas.core.series.Series'>\n"
     ]
    },
    {
     "data": {
      "text/plain": [
       "0           SOUTHERN\n",
       "1              VOLGA\n",
       "2        FAR EASTERN\n",
       "3           SIBERIAN\n",
       "4    NORTH CAUCASIAN\n",
       "Name: Federal district, dtype: object"
      ]
     },
     "execution_count": 90,
     "metadata": {},
     "output_type": "execute_result"
    }
   ],
   "source": [
    "### GRADED\n",
    "\n",
    "ans3 = None\n",
    "\n",
    "### BEGIN SOLUTION\n",
    "ans3 = russian_states['Federal district'].str.upper()\n",
    "type(ans3)\n",
    "### END SOLUTION\n",
    "\n",
    "# Answer check\n",
    "print(type(ans3))\n",
    "ans3.head()"
   ]
  },
  {
   "cell_type": "code",
   "execution_count": 92,
   "metadata": {
    "nbgrader": {
     "grade": true,
     "grade_id": "cell-513335067d60d99a",
     "locked": true,
     "points": 5,
     "schema_version": 1,
     "solution": false
    },
    "tags": []
   },
   "outputs": [],
   "source": [
    "### BEGIN HIDDEN TESTS\n",
    "russian_states_ = pd.read_csv('data/russian_states.csv', index_col = 0)\n",
    "ans3_ = russian_states_['Federal district'].str.upper()\n",
    "#\n",
    "#\n",
    "#\n",
    "assert type(ans3) == type(ans3_)\n",
    "pd.testing.assert_series_equal(ans3, ans3_)\n",
    "### END HIDDEN TESTS"
   ]
  },
  {
   "cell_type": "markdown",
   "metadata": {
    "nbgrader": {
     "grade": false,
     "grade_id": "cell-e3bde681d79f5ea7",
     "locked": true,
     "schema_version": 1,
     "solution": false
    }
   },
   "source": [
    "[Back to top](#Index:) \n",
    "\n",
    "### Problem 4\n",
    "\n",
    "#### Examining the Population\n",
    "\n",
    "**5 Points**\n",
    " \n",
    "\n",
    "Much like the example in the videos, the Population column contains problematic characters that need to be replaced before the column can be converted to a float datatype.  Replace these values and convert the Population column to float datatypes.  Assign the your response as a series to `ans4` below.  \n",
    "\n",
    "**Note:** Create a new dataframe for your cleaned data. Don’t modify the original russian_states dataframe."
   ]
  },
  {
   "cell_type": "code",
   "execution_count": 151,
   "metadata": {
    "nbgrader": {
     "grade": false,
     "grade_id": "cell-74ef2f0c657d0393",
     "locked": false,
     "schema_version": 1,
     "solution": true
    },
    "tags": []
   },
   "outputs": [
    {
     "name": "stdout",
     "output_type": "stream",
     "text": [
      "<class 'pandas.core.series.Series'>\n"
     ]
    },
    {
     "data": {
      "text/plain": [
       "0     447109.0\n",
       "1    4104336.0\n",
       "2     981238.0\n",
       "3     202947.0\n",
       "4    2576531.0\n",
       "Name: Population[17], dtype: float64"
      ]
     },
     "execution_count": 151,
     "metadata": {},
     "output_type": "execute_result"
    }
   ],
   "source": [
    "### GRADED\n",
    "\n",
    "ans4 = None\n",
    "\n",
    "### BEGIN SOLUTION\n",
    "ans4 = russian_states['Population[17]'].str.replace(\",\",\"\").str.replace(\"[22]\",\"\").str.replace(\"[23]\",\"\").astype(float)\n",
    "\n",
    "type(ans4)\n",
    "### END SOLUTION\n",
    "\n",
    "# Answer check\n",
    "print(type(ans4))\n",
    "ans4.head()"
   ]
  },
  {
   "cell_type": "code",
   "execution_count": 153,
   "metadata": {
    "nbgrader": {
     "grade": true,
     "grade_id": "cell-e5abae9366ae5429",
     "locked": true,
     "points": 5,
     "schema_version": 1,
     "solution": false
    },
    "tags": []
   },
   "outputs": [
    {
     "ename": "ValueError",
     "evalue": "could not convert string to float: '1966801[22]'",
     "output_type": "error",
     "traceback": [
      "\u001b[0;31m---------------------------------------------------------------------------\u001b[0m",
      "\u001b[0;31mValueError\u001b[0m                                Traceback (most recent call last)",
      "Cell \u001b[0;32mIn[153], line 3\u001b[0m\n\u001b[1;32m      1\u001b[0m \u001b[38;5;66;03m### BEGIN HIDDEN TESTS\u001b[39;00m\n\u001b[1;32m      2\u001b[0m russian_states_ \u001b[38;5;241m=\u001b[39m pd\u001b[38;5;241m.\u001b[39mread_csv(\u001b[38;5;124m'\u001b[39m\u001b[38;5;124mdata/russian_states.csv\u001b[39m\u001b[38;5;124m'\u001b[39m, index_col \u001b[38;5;241m=\u001b[39m \u001b[38;5;241m0\u001b[39m)\n\u001b[0;32m----> 3\u001b[0m ans4_ \u001b[38;5;241m=\u001b[39m russian_states_[\u001b[38;5;124m'\u001b[39m\u001b[38;5;124mPopulation[17]\u001b[39m\u001b[38;5;124m'\u001b[39m]\u001b[38;5;241m.\u001b[39mstr\u001b[38;5;241m.\u001b[39mreplace(\u001b[38;5;124m\"\u001b[39m\u001b[38;5;124m\\\u001b[39m\u001b[38;5;124m[22\u001b[39m\u001b[38;5;124m\\\u001b[39m\u001b[38;5;124m]\u001b[39m\u001b[38;5;124m\"\u001b[39m, \u001b[38;5;124m\"\u001b[39m\u001b[38;5;124m \u001b[39m\u001b[38;5;124m\"\u001b[39m)\u001b[38;5;241m.\u001b[39mstr\u001b[38;5;241m.\u001b[39mreplace(\u001b[38;5;124m\"\u001b[39m\u001b[38;5;124m\\\u001b[39m\u001b[38;5;124m[23\u001b[39m\u001b[38;5;124m\\\u001b[39m\u001b[38;5;124m]\u001b[39m\u001b[38;5;124m\"\u001b[39m, \u001b[38;5;124m\"\u001b[39m\u001b[38;5;124m \u001b[39m\u001b[38;5;124m\"\u001b[39m)\u001b[38;5;241m.\u001b[39mstr\u001b[38;5;241m.\u001b[39mreplace(\u001b[38;5;124m'\u001b[39m\u001b[38;5;124m,\u001b[39m\u001b[38;5;124m'\u001b[39m, \u001b[38;5;124m'\u001b[39m\u001b[38;5;124m'\u001b[39m)\u001b[38;5;241m.\u001b[39mastype(\u001b[38;5;124m'\u001b[39m\u001b[38;5;124mfloat\u001b[39m\u001b[38;5;124m'\u001b[39m)\n\u001b[1;32m      5\u001b[0m \u001b[38;5;66;03m#\u001b[39;00m\n\u001b[1;32m      6\u001b[0m \u001b[38;5;66;03m#\u001b[39;00m\n\u001b[1;32m      7\u001b[0m \u001b[38;5;66;03m#\u001b[39;00m\n\u001b[1;32m      8\u001b[0m \u001b[38;5;28;01massert\u001b[39;00m \u001b[38;5;28mtype\u001b[39m(ans4) \u001b[38;5;241m==\u001b[39m \u001b[38;5;28mtype\u001b[39m(ans4_)\n",
      "File \u001b[0;32m/opt/anaconda3/lib/python3.11/site-packages/pandas/core/generic.py:6534\u001b[0m, in \u001b[0;36mNDFrame.astype\u001b[0;34m(self, dtype, copy, errors)\u001b[0m\n\u001b[1;32m   6530\u001b[0m     results \u001b[38;5;241m=\u001b[39m [ser\u001b[38;5;241m.\u001b[39mastype(dtype, copy\u001b[38;5;241m=\u001b[39mcopy) \u001b[38;5;28;01mfor\u001b[39;00m _, ser \u001b[38;5;129;01min\u001b[39;00m \u001b[38;5;28mself\u001b[39m\u001b[38;5;241m.\u001b[39mitems()]\n\u001b[1;32m   6532\u001b[0m \u001b[38;5;28;01melse\u001b[39;00m:\n\u001b[1;32m   6533\u001b[0m     \u001b[38;5;66;03m# else, only a single dtype is given\u001b[39;00m\n\u001b[0;32m-> 6534\u001b[0m     new_data \u001b[38;5;241m=\u001b[39m \u001b[38;5;28mself\u001b[39m\u001b[38;5;241m.\u001b[39m_mgr\u001b[38;5;241m.\u001b[39mastype(dtype\u001b[38;5;241m=\u001b[39mdtype, copy\u001b[38;5;241m=\u001b[39mcopy, errors\u001b[38;5;241m=\u001b[39merrors)\n\u001b[1;32m   6535\u001b[0m     res \u001b[38;5;241m=\u001b[39m \u001b[38;5;28mself\u001b[39m\u001b[38;5;241m.\u001b[39m_constructor_from_mgr(new_data, axes\u001b[38;5;241m=\u001b[39mnew_data\u001b[38;5;241m.\u001b[39maxes)\n\u001b[1;32m   6536\u001b[0m     \u001b[38;5;28;01mreturn\u001b[39;00m res\u001b[38;5;241m.\u001b[39m__finalize__(\u001b[38;5;28mself\u001b[39m, method\u001b[38;5;241m=\u001b[39m\u001b[38;5;124m\"\u001b[39m\u001b[38;5;124mastype\u001b[39m\u001b[38;5;124m\"\u001b[39m)\n",
      "File \u001b[0;32m/opt/anaconda3/lib/python3.11/site-packages/pandas/core/internals/managers.py:414\u001b[0m, in \u001b[0;36mBaseBlockManager.astype\u001b[0;34m(self, dtype, copy, errors)\u001b[0m\n\u001b[1;32m    411\u001b[0m \u001b[38;5;28;01melif\u001b[39;00m using_copy_on_write():\n\u001b[1;32m    412\u001b[0m     copy \u001b[38;5;241m=\u001b[39m \u001b[38;5;28;01mFalse\u001b[39;00m\n\u001b[0;32m--> 414\u001b[0m \u001b[38;5;28;01mreturn\u001b[39;00m \u001b[38;5;28mself\u001b[39m\u001b[38;5;241m.\u001b[39mapply(\n\u001b[1;32m    415\u001b[0m     \u001b[38;5;124m\"\u001b[39m\u001b[38;5;124mastype\u001b[39m\u001b[38;5;124m\"\u001b[39m,\n\u001b[1;32m    416\u001b[0m     dtype\u001b[38;5;241m=\u001b[39mdtype,\n\u001b[1;32m    417\u001b[0m     copy\u001b[38;5;241m=\u001b[39mcopy,\n\u001b[1;32m    418\u001b[0m     errors\u001b[38;5;241m=\u001b[39merrors,\n\u001b[1;32m    419\u001b[0m     using_cow\u001b[38;5;241m=\u001b[39musing_copy_on_write(),\n\u001b[1;32m    420\u001b[0m )\n",
      "File \u001b[0;32m/opt/anaconda3/lib/python3.11/site-packages/pandas/core/internals/managers.py:354\u001b[0m, in \u001b[0;36mBaseBlockManager.apply\u001b[0;34m(self, f, align_keys, **kwargs)\u001b[0m\n\u001b[1;32m    352\u001b[0m         applied \u001b[38;5;241m=\u001b[39m b\u001b[38;5;241m.\u001b[39mapply(f, \u001b[38;5;241m*\u001b[39m\u001b[38;5;241m*\u001b[39mkwargs)\n\u001b[1;32m    353\u001b[0m     \u001b[38;5;28;01melse\u001b[39;00m:\n\u001b[0;32m--> 354\u001b[0m         applied \u001b[38;5;241m=\u001b[39m \u001b[38;5;28mgetattr\u001b[39m(b, f)(\u001b[38;5;241m*\u001b[39m\u001b[38;5;241m*\u001b[39mkwargs)\n\u001b[1;32m    355\u001b[0m     result_blocks \u001b[38;5;241m=\u001b[39m extend_blocks(applied, result_blocks)\n\u001b[1;32m    357\u001b[0m out \u001b[38;5;241m=\u001b[39m \u001b[38;5;28mtype\u001b[39m(\u001b[38;5;28mself\u001b[39m)\u001b[38;5;241m.\u001b[39mfrom_blocks(result_blocks, \u001b[38;5;28mself\u001b[39m\u001b[38;5;241m.\u001b[39maxes)\n",
      "File \u001b[0;32m/opt/anaconda3/lib/python3.11/site-packages/pandas/core/internals/blocks.py:616\u001b[0m, in \u001b[0;36mBlock.astype\u001b[0;34m(self, dtype, copy, errors, using_cow)\u001b[0m\n\u001b[1;32m    596\u001b[0m \u001b[38;5;250m\u001b[39m\u001b[38;5;124;03m\"\"\"\u001b[39;00m\n\u001b[1;32m    597\u001b[0m \u001b[38;5;124;03mCoerce to the new dtype.\u001b[39;00m\n\u001b[1;32m    598\u001b[0m \n\u001b[0;32m   (...)\u001b[0m\n\u001b[1;32m    612\u001b[0m \u001b[38;5;124;03mBlock\u001b[39;00m\n\u001b[1;32m    613\u001b[0m \u001b[38;5;124;03m\"\"\"\u001b[39;00m\n\u001b[1;32m    614\u001b[0m values \u001b[38;5;241m=\u001b[39m \u001b[38;5;28mself\u001b[39m\u001b[38;5;241m.\u001b[39mvalues\n\u001b[0;32m--> 616\u001b[0m new_values \u001b[38;5;241m=\u001b[39m astype_array_safe(values, dtype, copy\u001b[38;5;241m=\u001b[39mcopy, errors\u001b[38;5;241m=\u001b[39merrors)\n\u001b[1;32m    618\u001b[0m new_values \u001b[38;5;241m=\u001b[39m maybe_coerce_values(new_values)\n\u001b[1;32m    620\u001b[0m refs \u001b[38;5;241m=\u001b[39m \u001b[38;5;28;01mNone\u001b[39;00m\n",
      "File \u001b[0;32m/opt/anaconda3/lib/python3.11/site-packages/pandas/core/dtypes/astype.py:238\u001b[0m, in \u001b[0;36mastype_array_safe\u001b[0;34m(values, dtype, copy, errors)\u001b[0m\n\u001b[1;32m    235\u001b[0m     dtype \u001b[38;5;241m=\u001b[39m dtype\u001b[38;5;241m.\u001b[39mnumpy_dtype\n\u001b[1;32m    237\u001b[0m \u001b[38;5;28;01mtry\u001b[39;00m:\n\u001b[0;32m--> 238\u001b[0m     new_values \u001b[38;5;241m=\u001b[39m astype_array(values, dtype, copy\u001b[38;5;241m=\u001b[39mcopy)\n\u001b[1;32m    239\u001b[0m \u001b[38;5;28;01mexcept\u001b[39;00m (\u001b[38;5;167;01mValueError\u001b[39;00m, \u001b[38;5;167;01mTypeError\u001b[39;00m):\n\u001b[1;32m    240\u001b[0m     \u001b[38;5;66;03m# e.g. _astype_nansafe can fail on object-dtype of strings\u001b[39;00m\n\u001b[1;32m    241\u001b[0m     \u001b[38;5;66;03m#  trying to convert to float\u001b[39;00m\n\u001b[1;32m    242\u001b[0m     \u001b[38;5;28;01mif\u001b[39;00m errors \u001b[38;5;241m==\u001b[39m \u001b[38;5;124m\"\u001b[39m\u001b[38;5;124mignore\u001b[39m\u001b[38;5;124m\"\u001b[39m:\n",
      "File \u001b[0;32m/opt/anaconda3/lib/python3.11/site-packages/pandas/core/dtypes/astype.py:183\u001b[0m, in \u001b[0;36mastype_array\u001b[0;34m(values, dtype, copy)\u001b[0m\n\u001b[1;32m    180\u001b[0m     values \u001b[38;5;241m=\u001b[39m values\u001b[38;5;241m.\u001b[39mastype(dtype, copy\u001b[38;5;241m=\u001b[39mcopy)\n\u001b[1;32m    182\u001b[0m \u001b[38;5;28;01melse\u001b[39;00m:\n\u001b[0;32m--> 183\u001b[0m     values \u001b[38;5;241m=\u001b[39m _astype_nansafe(values, dtype, copy\u001b[38;5;241m=\u001b[39mcopy)\n\u001b[1;32m    185\u001b[0m \u001b[38;5;66;03m# in pandas we don't store numpy str dtypes, so convert to object\u001b[39;00m\n\u001b[1;32m    186\u001b[0m \u001b[38;5;28;01mif\u001b[39;00m \u001b[38;5;28misinstance\u001b[39m(dtype, np\u001b[38;5;241m.\u001b[39mdtype) \u001b[38;5;129;01mand\u001b[39;00m \u001b[38;5;28missubclass\u001b[39m(values\u001b[38;5;241m.\u001b[39mdtype\u001b[38;5;241m.\u001b[39mtype, \u001b[38;5;28mstr\u001b[39m):\n",
      "File \u001b[0;32m/opt/anaconda3/lib/python3.11/site-packages/pandas/core/dtypes/astype.py:134\u001b[0m, in \u001b[0;36m_astype_nansafe\u001b[0;34m(arr, dtype, copy, skipna)\u001b[0m\n\u001b[1;32m    130\u001b[0m     \u001b[38;5;28;01mraise\u001b[39;00m \u001b[38;5;167;01mValueError\u001b[39;00m(msg)\n\u001b[1;32m    132\u001b[0m \u001b[38;5;28;01mif\u001b[39;00m copy \u001b[38;5;129;01mor\u001b[39;00m arr\u001b[38;5;241m.\u001b[39mdtype \u001b[38;5;241m==\u001b[39m \u001b[38;5;28mobject\u001b[39m \u001b[38;5;129;01mor\u001b[39;00m dtype \u001b[38;5;241m==\u001b[39m \u001b[38;5;28mobject\u001b[39m:\n\u001b[1;32m    133\u001b[0m     \u001b[38;5;66;03m# Explicit copy, or required since NumPy can't view from / to object.\u001b[39;00m\n\u001b[0;32m--> 134\u001b[0m     \u001b[38;5;28;01mreturn\u001b[39;00m arr\u001b[38;5;241m.\u001b[39mastype(dtype, copy\u001b[38;5;241m=\u001b[39m\u001b[38;5;28;01mTrue\u001b[39;00m)\n\u001b[1;32m    136\u001b[0m \u001b[38;5;28;01mreturn\u001b[39;00m arr\u001b[38;5;241m.\u001b[39mastype(dtype, copy\u001b[38;5;241m=\u001b[39mcopy)\n",
      "\u001b[0;31mValueError\u001b[0m: could not convert string to float: '1966801[22]'"
     ]
    }
   ],
   "source": [
    "### BEGIN HIDDEN TESTS\n",
    "russian_states_ = pd.read_csv('data/russian_states.csv', index_col = 0)\n",
    "ans4_ = russian_states_['Population[17]'].str.replace(\"\\[22\\]\", \" \").str.replace(\"\\[23\\]\", \" \").str.replace(',', '').astype('float')\n",
    "\n",
    "#\n",
    "#\n",
    "#\n",
    "assert type(ans4) == type(ans4_)\n",
    "pd.testing.assert_series_equal(ans4, ans4_)\n",
    "### END HIDDEN TESTS"
   ]
  },
  {
   "cell_type": "code",
   "execution_count": null,
   "metadata": {},
   "outputs": [],
   "source": []
  }
 ],
 "metadata": {
  "celltoolbar": "Create Assignment",
  "kernelspec": {
   "display_name": "Python 3 (ipykernel)",
   "language": "python",
   "name": "python3"
  },
  "language_info": {
   "codemirror_mode": {
    "name": "ipython",
    "version": 3
   },
   "file_extension": ".py",
   "mimetype": "text/x-python",
   "name": "python",
   "nbconvert_exporter": "python",
   "pygments_lexer": "ipython3",
   "version": "3.11.7"
  }
 },
 "nbformat": 4,
 "nbformat_minor": 4
}
