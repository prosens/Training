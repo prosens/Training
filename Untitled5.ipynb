{
 "cells": [
  {
   "cell_type": "code",
   "execution_count": 49,
   "id": "401e1187-e2d5-448b-8dfc-61e563bf0f12",
   "metadata": {
    "tags": []
   },
   "outputs": [],
   "source": [
    "import pandas as pd"
   ]
  },
  {
   "cell_type": "code",
   "execution_count": 51,
   "id": "9a407037-092f-4d2d-8090-26e0cb9a60cd",
   "metadata": {
    "tags": []
   },
   "outputs": [
    {
     "data": {
      "text/html": [
       "<div>\n",
       "<style scoped>\n",
       "    .dataframe tbody tr th:only-of-type {\n",
       "        vertical-align: middle;\n",
       "    }\n",
       "\n",
       "    .dataframe tbody tr th {\n",
       "        vertical-align: top;\n",
       "    }\n",
       "\n",
       "    .dataframe thead th {\n",
       "        text-align: right;\n",
       "    }\n",
       "</style>\n",
       "<table border=\"1\" class=\"dataframe\">\n",
       "  <thead>\n",
       "    <tr style=\"text-align: right;\">\n",
       "      <th></th>\n",
       "      <th>Name</th>\n",
       "      <th>Age</th>\n",
       "      <th>City</th>\n",
       "      <th>Total</th>\n",
       "      <th>Sex</th>\n",
       "      <th>Graduate</th>\n",
       "    </tr>\n",
       "  </thead>\n",
       "  <tbody>\n",
       "    <tr>\n",
       "      <th>0</th>\n",
       "      <td>Prosenjit Sinha</td>\n",
       "      <td>43</td>\n",
       "      <td>Manalapan</td>\n",
       "      <td>860</td>\n",
       "      <td>Male</td>\n",
       "      <td>True</td>\n",
       "    </tr>\n",
       "    <tr>\n",
       "      <th>1</th>\n",
       "      <td>Priyasha Sinha</td>\n",
       "      <td>16</td>\n",
       "      <td>Englishtown</td>\n",
       "      <td>900</td>\n",
       "      <td>Female</td>\n",
       "      <td>True</td>\n",
       "    </tr>\n",
       "    <tr>\n",
       "      <th>2</th>\n",
       "      <td>Priyankana Dutta</td>\n",
       "      <td>41</td>\n",
       "      <td>Manalapan</td>\n",
       "      <td>1000</td>\n",
       "      <td>Male</td>\n",
       "      <td>False</td>\n",
       "    </tr>\n",
       "    <tr>\n",
       "      <th>3</th>\n",
       "      <td>Prayan Sinha</td>\n",
       "      <td>8</td>\n",
       "      <td>Ocean</td>\n",
       "      <td>1200</td>\n",
       "      <td>Female</td>\n",
       "      <td>False</td>\n",
       "    </tr>\n",
       "  </tbody>\n",
       "</table>\n",
       "</div>"
      ],
      "text/plain": [
       "               Name  Age         City  Total     Sex  Graduate\n",
       "0   Prosenjit Sinha   43    Manalapan    860    Male      True\n",
       "1    Priyasha Sinha   16  Englishtown    900  Female      True\n",
       "2  Priyankana Dutta   41    Manalapan   1000    Male     False\n",
       "3      Prayan Sinha    8        Ocean   1200  Female     False"
      ]
     },
     "execution_count": 51,
     "metadata": {},
     "output_type": "execute_result"
    }
   ],
   "source": [
    "df = pd.read_csv('data/test.csv')\n",
    "df"
   ]
  },
  {
   "cell_type": "code",
   "execution_count": 53,
   "id": "79a8e6e1-8de6-4f7e-8eb4-b7aaa6de8347",
   "metadata": {
    "tags": []
   },
   "outputs": [
    {
     "data": {
      "text/html": [
       "<div>\n",
       "<style scoped>\n",
       "    .dataframe tbody tr th:only-of-type {\n",
       "        vertical-align: middle;\n",
       "    }\n",
       "\n",
       "    .dataframe tbody tr th {\n",
       "        vertical-align: top;\n",
       "    }\n",
       "\n",
       "    .dataframe thead th {\n",
       "        text-align: right;\n",
       "    }\n",
       "</style>\n",
       "<table border=\"1\" class=\"dataframe\">\n",
       "  <thead>\n",
       "    <tr style=\"text-align: right;\">\n",
       "      <th></th>\n",
       "      <th>Age</th>\n",
       "      <th>City</th>\n",
       "      <th>Total</th>\n",
       "      <th>Sex</th>\n",
       "      <th>Graduate</th>\n",
       "      <th>ratio</th>\n",
       "    </tr>\n",
       "    <tr>\n",
       "      <th>Name</th>\n",
       "      <th></th>\n",
       "      <th></th>\n",
       "      <th></th>\n",
       "      <th></th>\n",
       "      <th></th>\n",
       "      <th></th>\n",
       "    </tr>\n",
       "  </thead>\n",
       "  <tbody>\n",
       "    <tr>\n",
       "      <th>Prosenjit Sinha</th>\n",
       "      <td>43</td>\n",
       "      <td>Manalapan</td>\n",
       "      <td>860</td>\n",
       "      <td>Male</td>\n",
       "      <td>True</td>\n",
       "      <td>5.375</td>\n",
       "    </tr>\n",
       "    <tr>\n",
       "      <th>Priyasha Sinha</th>\n",
       "      <td>16</td>\n",
       "      <td>Englishtown</td>\n",
       "      <td>900</td>\n",
       "      <td>Female</td>\n",
       "      <td>True</td>\n",
       "      <td>2.000</td>\n",
       "    </tr>\n",
       "    <tr>\n",
       "      <th>Priyankana Dutta</th>\n",
       "      <td>41</td>\n",
       "      <td>Manalapan</td>\n",
       "      <td>1000</td>\n",
       "      <td>Male</td>\n",
       "      <td>False</td>\n",
       "      <td>5.125</td>\n",
       "    </tr>\n",
       "    <tr>\n",
       "      <th>Prayan Sinha</th>\n",
       "      <td>8</td>\n",
       "      <td>Ocean</td>\n",
       "      <td>1200</td>\n",
       "      <td>Female</td>\n",
       "      <td>False</td>\n",
       "      <td>1.000</td>\n",
       "    </tr>\n",
       "  </tbody>\n",
       "</table>\n",
       "</div>"
      ],
      "text/plain": [
       "                  Age         City  Total     Sex  Graduate  ratio\n",
       "Name                                                              \n",
       "Prosenjit Sinha    43    Manalapan    860    Male      True  5.375\n",
       "Priyasha Sinha     16  Englishtown    900  Female      True  2.000\n",
       "Priyankana Dutta   41    Manalapan   1000    Male     False  5.125\n",
       "Prayan Sinha        8        Ocean   1200  Female     False  1.000"
      ]
     },
     "execution_count": 53,
     "metadata": {},
     "output_type": "execute_result"
    }
   ],
   "source": [
    "df_prayan = df.query('Name == \"Prayan Sinha\"')[['Age']]\n",
    "df_prayan\n",
    "df = df.set_index('Name')\n",
    "df['ratio'] = df['Age'] / df_prayan['Age'].values[0]\n",
    "df"
   ]
  },
  {
   "cell_type": "code",
   "execution_count": null,
   "id": "e23d83b5-3085-4b14-b452-6cbd0d1e51a0",
   "metadata": {},
   "outputs": [],
   "source": []
  }
 ],
 "metadata": {
  "kernelspec": {
   "display_name": "Python 3 (ipykernel)",
   "language": "python",
   "name": "python3"
  },
  "language_info": {
   "codemirror_mode": {
    "name": "ipython",
    "version": 3
   },
   "file_extension": ".py",
   "mimetype": "text/x-python",
   "name": "python",
   "nbconvert_exporter": "python",
   "pygments_lexer": "ipython3",
   "version": "3.11.7"
  }
 },
 "nbformat": 4,
 "nbformat_minor": 5
}
