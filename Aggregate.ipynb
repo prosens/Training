{
 "cells": [
  {
   "cell_type": "code",
   "execution_count": 7,
   "id": "b188b37a-2816-450a-a5d0-aed5dfe34b8c",
   "metadata": {
    "tags": []
   },
   "outputs": [],
   "source": [
    "import pandas as pd"
   ]
  },
  {
   "cell_type": "code",
   "execution_count": 47,
   "id": "60ffe663-924d-4f1e-a91c-c1cbd6f18624",
   "metadata": {
    "tags": []
   },
   "outputs": [
    {
     "data": {
      "text/html": [
       "<div>\n",
       "<style scoped>\n",
       "    .dataframe tbody tr th:only-of-type {\n",
       "        vertical-align: middle;\n",
       "    }\n",
       "\n",
       "    .dataframe tbody tr th {\n",
       "        vertical-align: top;\n",
       "    }\n",
       "\n",
       "    .dataframe thead th {\n",
       "        text-align: right;\n",
       "    }\n",
       "</style>\n",
       "<table border=\"1\" class=\"dataframe\">\n",
       "  <thead>\n",
       "    <tr style=\"text-align: right;\">\n",
       "      <th></th>\n",
       "      <th>Name</th>\n",
       "      <th>Age</th>\n",
       "      <th>City</th>\n",
       "      <th>Total</th>\n",
       "      <th>Sex</th>\n",
       "      <th>Graduate</th>\n",
       "    </tr>\n",
       "  </thead>\n",
       "  <tbody>\n",
       "    <tr>\n",
       "      <th>0</th>\n",
       "      <td>Prosenjit Sinha</td>\n",
       "      <td>43</td>\n",
       "      <td>Manalapan</td>\n",
       "      <td>860</td>\n",
       "      <td>Male</td>\n",
       "      <td>True</td>\n",
       "    </tr>\n",
       "    <tr>\n",
       "      <th>1</th>\n",
       "      <td>Priyasha Sinha</td>\n",
       "      <td>16</td>\n",
       "      <td>Englishtown</td>\n",
       "      <td>900</td>\n",
       "      <td>Female</td>\n",
       "      <td>True</td>\n",
       "    </tr>\n",
       "    <tr>\n",
       "      <th>2</th>\n",
       "      <td>Priyankana Dutta</td>\n",
       "      <td>41</td>\n",
       "      <td>Manalapan</td>\n",
       "      <td>1000</td>\n",
       "      <td>Male</td>\n",
       "      <td>False</td>\n",
       "    </tr>\n",
       "    <tr>\n",
       "      <th>3</th>\n",
       "      <td>Prayan Sinha</td>\n",
       "      <td>8</td>\n",
       "      <td>Ocean</td>\n",
       "      <td>1200</td>\n",
       "      <td>Female</td>\n",
       "      <td>False</td>\n",
       "    </tr>\n",
       "  </tbody>\n",
       "</table>\n",
       "</div>"
      ],
      "text/plain": [
       "               Name  Age         City  Total     Sex  Graduate\n",
       "0   Prosenjit Sinha   43    Manalapan    860    Male      True\n",
       "1    Priyasha Sinha   16  Englishtown    900  Female      True\n",
       "2  Priyankana Dutta   41    Manalapan   1000    Male     False\n",
       "3      Prayan Sinha    8        Ocean   1200  Female     False"
      ]
     },
     "execution_count": 47,
     "metadata": {},
     "output_type": "execute_result"
    }
   ],
   "source": [
    "df = pd.read_csv('data/test.csv')\n",
    "df"
   ]
  },
  {
   "cell_type": "code",
   "execution_count": 55,
   "id": "42a6462d-c208-44f4-9344-dcf95714e825",
   "metadata": {
    "tags": []
   },
   "outputs": [
    {
     "name": "stdout",
     "output_type": "stream",
     "text": [
      "        Total\n",
      "Age          \n",
      "False  1200.0\n",
      "True    920.0\n"
     ]
    }
   ],
   "source": [
    "dfg = df.groupby(df['Age'] > 10)[['Total']].mean()\n",
    "print(dfg)"
   ]
  },
  {
   "cell_type": "code",
   "execution_count": null,
   "id": "6808a90d-77ca-4417-84d9-4937d59cd216",
   "metadata": {},
   "outputs": [],
   "source": []
  },
  {
   "cell_type": "code",
   "execution_count": null,
   "id": "7b365e7b-568b-4a4e-8ced-5179441059e8",
   "metadata": {},
   "outputs": [],
   "source": []
  }
 ],
 "metadata": {
  "kernelspec": {
   "display_name": "Python 3 (ipykernel)",
   "language": "python",
   "name": "python3"
  },
  "language_info": {
   "codemirror_mode": {
    "name": "ipython",
    "version": 3
   },
   "file_extension": ".py",
   "mimetype": "text/x-python",
   "name": "python",
   "nbconvert_exporter": "python",
   "pygments_lexer": "ipython3",
   "version": "3.11.7"
  }
 },
 "nbformat": 4,
 "nbformat_minor": 5
}
